{
 "cells": [
  {
   "cell_type": "markdown",
   "id": "north-virgin",
   "metadata": {},
   "source": [
    "## Notebook to produce Figure 5 for Chiacchierini et al. (2021)"
   ]
  },
  {
   "attachments": {},
   "cell_type": "markdown",
   "id": "entire-scratch",
   "metadata": {},
   "source": [
    "![Figure 5](./figs/PPP_figs_R2_Fig5.png \"Figure 5\")"
   ]
  },
  {
   "cell_type": "code",
   "execution_count": 1,
   "id": "trying-sellers",
   "metadata": {},
   "outputs": [],
   "source": [
    "import sys\n",
    "sys.path.append('..\\\\helperfx')\n",
    "\n",
    "import matplotlib as mpl\n",
    "import matplotlib.pyplot as plt\n",
    "import matplotlib.gridspec as gridspec\n",
    "import matplotlib.lines as mlines\n",
    "import matplotlib.transforms as transforms\n",
    "\n",
    "import dabest as db\n",
    "import pandas as pd\n",
    "import trompy as tp\n",
    "\n",
    "from settings4figs import *\n",
    "from fx4figs import *\n",
    "\n",
    "%matplotlib inline"
   ]
  },
  {
   "cell_type": "code",
   "execution_count": 2,
   "id": "exposed-exposure",
   "metadata": {},
   "outputs": [],
   "source": [
    "#Adds control column for calculating vs. 50%\n",
    "con = [0.5] * 15\n",
    "df_behav.insert(0, \"control\", con)\n",
    "\n",
    "#Initializes details for saving statistics\n",
    "stats_args = {}\n",
    "stats_args[\"file\"] = \"..\\\\stats\\\\estimation_stats.xlsx\"\n",
    "stats_args[\"file\"] = \"\" # Comment this line out to write a new stats file\n",
    "\n",
    "# with pd.ExcelWriter(stats_args[\"file\"]) as writer:\n",
    "#     df_behav[\"control\"].to_excel(writer, sheet_name=\"front\")"
   ]
  },
  {
   "cell_type": "markdown",
   "id": "fallen-investment",
   "metadata": {},
   "source": [
    "### Panel A - Free choice licks"
   ]
  },
  {
   "cell_type": "code",
   "execution_count": 3,
   "id": "nominated-coordination",
   "metadata": {},
   "outputs": [
    {
     "name": "stdout",
     "output_type": "stream",
     "text": [
      "No stats file to write to.\n"
     ]
    },
    {
     "data": {
      "image/png": "[encoded data removed]",
      "text/plain": [
       "<Figure size 93.6x126 with 2 Axes>"
      ]
     },
     "metadata": {
      "needs_background": "light"
     },
     "output_type": "display_data"
    }
   ],
   "source": [
    "keys = [\"pref1_malt_free\", \"pref1_cas_free\"]\n",
    "stats_args[\"sheet\"] = \"pref1_free_licks\"\n",
    "data, df = prep4estimationstats(df_behav, [\"NR\", \"PR\"], keys)\n",
    "fig5A = barscatter_plus_estimation(data, df, ylabel=\"Licks\", stats_args=stats_args)"
   ]
  },
  {
   "cell_type": "markdown",
   "id": "joint-algeria",
   "metadata": {},
   "source": [
    "### Panel B - Choices vs. 50%"
   ]
  },
  {
   "cell_type": "code",
   "execution_count": 4,
   "id": "confident-limitation",
   "metadata": {},
   "outputs": [
    {
     "name": "stderr",
     "output_type": "stream",
     "text": [
      "C:\\ProgramData\\Anaconda3\\envs\\ppp\\lib\\site-packages\\numpy\\core\\fromnumeric.py:3373: RuntimeWarning: Mean of empty slice.\n",
      "  out=out, **kwargs)\n",
      "C:\\ProgramData\\Anaconda3\\envs\\ppp\\lib\\site-packages\\numpy\\core\\_methods.py:170: RuntimeWarning: invalid value encountered in double_scalars\n",
      "  ret = ret.dtype.type(ret / rcount)\n"
     ]
    },
    {
     "name": "stdout",
     "output_type": "stream",
     "text": [
      "Could not space all sets of points.\n",
      "Could not space all sets of points.\n"
     ]
    },
    {
     "name": "stderr",
     "output_type": "stream",
     "text": [
      "C:\\Users\\admin\\AppData\\Roaming\\Python\\Python37\\site-packages\\dabest\\_classes.py:776: UserWarning: The lower limit of the interval was in the bottom 10 values. The result should be considered unstable.\n",
      "  stacklevel=1)\n"
     ]
    },
    {
     "name": "stdout",
     "output_type": "stream",
     "text": [
      "No stats file to write to.\n"
     ]
    },
    {
     "data": {
      "image/png": "[encoded data removed]",
      "text/plain": [
       "<Figure size 136.8x126 with 2 Axes>"
      ]
     },
     "metadata": {
      "needs_background": "light"
     },
     "output_type": "display_data"
    }
   ],
   "source": [
    "keys = [\"control\", \"pref1\"]\n",
    "stats_args[\"sheet\"] = \"pref1_choices\"\n",
    "data, df = prep4estimationstats(df_behav, [\"NR\", \"PR\"], keys)\n",
    "fig5B = barscatter_plus_estimation_vs50_2col(data, df, ylabel=\"Casein preference\", stats_args=stats_args)"
   ]
  },
  {
   "cell_type": "code",
   "execution_count": 5,
   "id": "innocent-designer",
   "metadata": {},
   "outputs": [
    {
     "data": {
      "text/html": [
       "<div>\n",
       "<style scoped>\n",
       "    .dataframe tbody tr th:only-of-type {\n",
       "        vertical-align: middle;\n",
       "    }\n",
       "\n",
       "    .dataframe tbody tr th {\n",
       "        vertical-align: top;\n",
       "    }\n",
       "\n",
       "    .dataframe thead th {\n",
       "        text-align: right;\n",
       "    }\n",
       "</style>\n",
       "<table border=\"1\" class=\"dataframe\">\n",
       "  <thead>\n",
       "    <tr style=\"text-align: right;\">\n",
       "      <th></th>\n",
       "      <th>control</th>\n",
       "      <th>test</th>\n",
       "      <th>control_N</th>\n",
       "      <th>test_N</th>\n",
       "      <th>effect_size</th>\n",
       "      <th>is_paired</th>\n",
       "      <th>difference</th>\n",
       "      <th>ci</th>\n",
       "      <th>bca_low</th>\n",
       "      <th>bca_high</th>\n",
       "      <th>...</th>\n",
       "      <th>resamples</th>\n",
       "      <th>random_seed</th>\n",
       "      <th>pvalue_permutation</th>\n",
       "      <th>permutation_count</th>\n",
       "      <th>pvalue_welch</th>\n",
       "      <th>statistic_welch</th>\n",
       "      <th>pvalue_students_t</th>\n",
       "      <th>statistic_students_t</th>\n",
       "      <th>pvalue_mann_whitney</th>\n",
       "      <th>statistic_mann_whitney</th>\n",
       "    </tr>\n",
       "  </thead>\n",
       "  <tbody>\n",
       "    <tr>\n",
       "      <th>0</th>\n",
       "      <td>test1</td>\n",
       "      <td>test2</td>\n",
       "      <td>6</td>\n",
       "      <td>9</td>\n",
       "      <td>mean difference</td>\n",
       "      <td>False</td>\n",
       "      <td>0.485802</td>\n",
       "      <td>95</td>\n",
       "      <td>0.232407</td>\n",
       "      <td>0.663889</td>\n",
       "      <td>...</td>\n",
       "      <td>5000</td>\n",
       "      <td>12345</td>\n",
       "      <td>0.0036</td>\n",
       "      <td>5000</td>\n",
       "      <td>0.001119</td>\n",
       "      <td>-4.205968</td>\n",
       "      <td>0.001509</td>\n",
       "      <td>-4.001242</td>\n",
       "      <td>0.007622</td>\n",
       "      <td>4.0</td>\n",
       "    </tr>\n",
       "  </tbody>\n",
       "</table>\n",
       "<p>1 rows × 25 columns</p>\n",
       "</div>"
      ],
      "text/plain": [
       "  control   test  control_N  test_N      effect_size  is_paired  difference  \\\n",
       "0   test1  test2          6       9  mean difference      False    0.485802   \n",
       "\n",
       "   ci   bca_low  bca_high  ... resamples  random_seed  pvalue_permutation  \\\n",
       "0  95  0.232407  0.663889  ...      5000        12345              0.0036   \n",
       "\n",
       "  permutation_count pvalue_welch  statistic_welch  pvalue_students_t  \\\n",
       "0              5000     0.001119        -4.205968           0.001509   \n",
       "\n",
       "   statistic_students_t  pvalue_mann_whitney  statistic_mann_whitney  \n",
       "0             -4.001242             0.007622                     4.0  \n",
       "\n",
       "[1 rows x 25 columns]"
      ]
     },
     "execution_count": 5,
     "metadata": {},
     "output_type": "execute_result"
    }
   ],
   "source": [
    "# compares NR and PR preferences on pref test 1 - stats used in paper but not plot\n",
    "keys = [\"control\", \"pref1\"]\n",
    "data, df = prep4estimationstats(df_behav, [\"NR\", \"PR\"], keys)\n",
    "temp = db.load(df, idx=(\"test1\", \"test2\"), id_col=\"rat\")\n",
    "e = temp.mean_diff\n",
    "e.results"
   ]
  },
  {
   "cell_type": "code",
   "execution_count": null,
   "id": "accessory-scene",
   "metadata": {},
   "outputs": [],
   "source": []
  }
 ],
 "metadata": {
  "kernelspec": {
   "display_name": "Python 3",
   "language": "python",
   "name": "python3"
  },
  "language_info": {
   "codemirror_mode": {
    "name": "ipython",
    "version": 3
   },
   "file_extension": ".py",
   "mimetype": "text/x-python",
   "name": "python",
   "nbconvert_exporter": "python",
   "pygments_lexer": "ipython3",
   "version": "3.7.2"
  }
 },
 "nbformat": 4,
 "nbformat_minor": 5
}

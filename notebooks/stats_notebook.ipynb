{
 "cells": [
  {
   "cell_type": "code",
   "execution_count": 1,
   "id": "geological-india",
   "metadata": {},
   "outputs": [],
   "source": [
    "import sys\n",
    "sys.path.append('..\\\\helperfx')\n",
    "\n",
    "import dabest as db\n",
    "import pandas as pd\n",
    "\n",
    "import trompy as tp\n",
    "\n",
    "from settings4figs import *\n",
    "from fx4figs import *\n",
    "from fx4stats import *\n",
    "\n",
    "#Adds control column for calculating vs. 50%\n",
    "con = [0.5] * 15\n",
    "df_behav.insert(0, \"control\", con)"
   ]
  },
  {
   "cell_type": "markdown",
   "id": "functional-centre",
   "metadata": {},
   "source": [
    "These statistical analyses use a number of functions contained in the file _fx4stats.py_ which is located in the _helperfx_ directory. These functions can be examined to details of the analysis. Several of the functions (those relying on ANOVA) make use of calls to R using Rscript. It is essential that the Rscript path is set correctly both in this notebook and in the helper file _fx4stats.py_.\n",
    "\n",
    "R also needs the package _ez_ installed. There is a line at the beginning of _fx4stats.py_ that attempts this installation.\n",
    "\n",
    "There is also a _stats_ folder that contains a number of intermediary .csv files and R scripts required.\n",
    "\n",
    "Estimation stats are performed (including permutation t-tests with 5000 reshuffles) when the figures containing these data are produced. The results are saved in an Excel file, _estimation_stats.xlsx_, and this notebook reads in data from that file where full results can be examined."
   ]
  },
  {
   "cell_type": "markdown",
   "id": "vocal-lexington",
   "metadata": {},
   "source": [
    "### Analysis of behavioural data from Preference Test 1 (Fig 2 and Fig 3)"
   ]
  },
  {
   "cell_type": "markdown",
   "id": "usual-grill",
   "metadata": {},
   "source": [
    "Two-way ANOVAs comparing (1) forced choice trials, (2) latency to lick, (3) free choice trials, and (4) choice data. Factors are diet group (between, NR vs PR) and substance (within, casein vs maltodextrin). "
   ]
  },
  {
   "cell_type": "code",
   "execution_count": 2,
   "id": "extraordinary-adrian",
   "metadata": {},
   "outputs": [
    {
     "name": "stdout",
     "output_type": "stream",
     "text": [
      "\n",
      "Analysis of preference session 1\n",
      "\n",
      "ANOVA on FORCED LICK trials\n",
      "\n",
      "0 Registered S3 methods overwritten by 'lme4':\n",
      "  method                          from\n",
      "  cooks.distance.influence.merMod car \n",
      "  influence.merMod                car \n",
      "  dfbeta.influence.merMod         car \n",
      "  dfbetas.influence.merMod        car \n",
      "Warning: Converting \"rat\" to factor for ANOVA.\n",
      "Warning: Converting \"substance\" to factor for ANOVA.\n",
      "Warning: Converting \"diet\" to factor for ANOVA.\n",
      "Warning: Data is unbalanced (unequal N per group). Make sure you specified a well-considered value for the type argument to ezANOVA().\n",
      " $ANOVA\n",
      "          Effect DFn DFd          F         p p<.05        ges\n",
      "2           diet   1  13 0.36156237 0.5579799       0.01272779\n",
      "3      substance   1  13 0.08347180 0.7772022       0.00343281\n",
      "4 diet:substance   1  13 0.08191887 0.7792239       0.00336916\n",
      "\n",
      "\n",
      "\\ANOVA on LATENCIES on forced lick trials\n",
      "0 Registered S3 methods overwritten by 'lme4':\n",
      "  method                          from\n",
      "  cooks.distance.influence.merMod car \n",
      "  influence.merMod                car \n",
      "  dfbeta.influence.merMod         car \n",
      "  dfbetas.influence.merMod        car \n",
      "Warning: Converting \"rat\" to factor for ANOVA.\n",
      "Warning: Converting \"substance\" to factor for ANOVA.\n",
      "Warning: Converting \"diet\" to factor for ANOVA.\n",
      "Warning: Data is unbalanced (unequal N per group). Make sure you specified a well-considered value for the type argument to ezANOVA().\n",
      " $ANOVA\n",
      "          Effect DFn DFd        F          p p<.05        ges\n",
      "2           diet   1  13 5.109767 0.04159437     * 0.22541697\n",
      "3      substance   1  13 8.055711 0.01396780     * 0.13857871\n",
      "4 diet:substance   1  13 4.464304 0.05452098       0.08185445\n",
      "\n",
      "\n",
      "\n",
      "ANOVA on FREE LICK trials\n",
      "\n",
      "0 Registered S3 methods overwritten by 'lme4':\n",
      "  method                          from\n",
      "  cooks.distance.influence.merMod car \n",
      "  influence.merMod                car \n",
      "  dfbeta.influence.merMod         car \n",
      "  dfbetas.influence.merMod        car \n",
      "Warning: Converting \"rat\" to factor for ANOVA.\n",
      "Warning: Converting \"substance\" to factor for ANOVA.\n",
      "Warning: Converting \"diet\" to factor for ANOVA.\n",
      "Warning: Data is unbalanced (unequal N per group). Make sure you specified a well-considered value for the type argument to ezANOVA().\n",
      " $ANOVA\n",
      "          Effect DFn DFd         F           p p<.05        ges\n",
      "2           diet   1  13  5.117643 0.041460682     * 0.01211641\n",
      "3      substance   1  13  1.752948 0.208315506       0.11554598\n",
      "4 diet:substance   1  13 14.958443 0.001941626     * 0.52714201\n",
      "\n",
      "\n",
      "\n",
      "ANOVA of CHOICE data\n",
      "\n",
      "0 Registered S3 methods overwritten by 'lme4':\n",
      "  method                          from\n",
      "  cooks.distance.influence.merMod car \n",
      "  influence.merMod                car \n",
      "  dfbeta.influence.merMod         car \n",
      "  dfbetas.influence.merMod        car \n",
      "Warning: Converting \"rat\" to factor for ANOVA.\n",
      "Warning: Converting \"substance\" to factor for ANOVA.\n",
      "Warning: Converting \"diet\" to factor for ANOVA.\n",
      "Warning: Data is unbalanced (unequal N per group). Make sure you specified a well-considered value for the type argument to ezANOVA().\n",
      " $ANOVA\n",
      "          Effect DFn DFd         F           p p<.05         ges\n",
      "2           diet   1  13  1.300000 0.274784759       0.001472031\n",
      "3      substance   1  13  3.287282 0.092963406       0.199449253\n",
      "4 diet:substance   1  13 16.358603 0.001390468     * 0.553532251\n",
      "\n",
      "\n"
     ]
    }
   ],
   "source": [
    "stats_pref_behav(df_behav, df_photo)"
   ]
  },
  {
   "cell_type": "markdown",
   "id": "searching-angel",
   "metadata": {},
   "source": [
    "Estimation stats showing permutation p-values resulting from t-tests comparing 5000 reshuffles."
   ]
  },
  {
   "cell_type": "code",
   "execution_count": 3,
   "id": "positive-province",
   "metadata": {},
   "outputs": [
    {
     "name": "stdout",
     "output_type": "stream",
     "text": [
      "No difference in licking during forced choice trials for NR rats = -23.67  [95%CI -78.33, 35.67], p=0.468\n",
      "No difference in licking during forced choice trials for PR rats = -0.11  [95%CI -123.00, 104.67], p=0.997\n"
     ]
    }
   ],
   "source": [
    "output_estimation_stats(book, \"pref1_forced_licks\", 1, \"No difference in licking during forced choice trials for NR rats\")\n",
    "output_estimation_stats(book, \"pref1_forced_licks\", 2, \"No difference in licking during forced choice trials for PR rats\")"
   ]
  },
  {
   "cell_type": "code",
   "execution_count": 4,
   "id": "ecological-anatomy",
   "metadata": {},
   "outputs": [
    {
     "name": "stdout",
     "output_type": "stream",
     "text": [
      "No difference in latency for NR rats = -0.30 s [95%CI -0.62, 0.10], p=0.181\n",
      "Difference in latency for PR rats = -2.47 s [95%CI -3.65, -1.04], p=0.011\n"
     ]
    }
   ],
   "source": [
    "output_estimation_stats(book, \"pref1_latency\", 1, \"No difference in latency for NR rats\", unit=\"s\")\n",
    "output_estimation_stats(book, \"pref1_latency\", 2, \"Difference in latency for PR rats\", unit=\"s\")"
   ]
  },
  {
   "cell_type": "code",
   "execution_count": 5,
   "id": "cheap-branch",
   "metadata": {},
   "outputs": [
    {
     "name": "stdout",
     "output_type": "stream",
     "text": [
      "No difference in licking during free choice trials for NR rats = -216.67  [95%CI -464.67, -16.17], p=0.121\n",
      "Difference in licking during free choice trials for PR rats = 442.22  [95%CI 127.33, 587.22], p=0.006\n"
     ]
    }
   ],
   "source": [
    "output_estimation_stats(book, \"pref1_free_licks\", 1, \"No difference in licking during free choice trials for NR rats\")\n",
    "output_estimation_stats(book, \"pref1_free_licks\", 2, \"Difference in licking during free choice trials for PR rats\")"
   ]
  },
  {
   "cell_type": "code",
   "execution_count": 6,
   "id": "hazardous-brass",
   "metadata": {
    "scrolled": true
   },
   "outputs": [
    {
     "name": "stdout",
     "output_type": "stream",
     "text": [
      "Difference in choices (NR vs PR) during free choice trials = 0.49 [95%CI 0.23, 0.66], p=0.004\n"
     ]
    }
   ],
   "source": [
    "keys = [\"control\", \"pref1\"]\n",
    "data, df = prep4estimationstats(df_behav, [\"NR\", \"PR\"], keys)\n",
    "temp = db.load(df, idx=(\"test1\", \"test2\"), id_col=\"rat\")\n",
    "r = temp.mean_diff.results\n",
    "print(\"Difference in choices (NR vs PR) during free choice trials = {:.2f} [95%CI {:.2f}, {:.2f}], p={:.3f}\".format(\n",
    "        r[\"difference\"][0],\n",
    "        r[\"bca_low\"][0],\n",
    "        r[\"bca_high\"][0],\n",
    "        r[\"pvalue_permutation\"][0]))\n",
    "      "
   ]
  },
  {
   "cell_type": "code",
   "execution_count": 7,
   "id": "enabling-saying",
   "metadata": {},
   "outputs": [
    {
     "name": "stdout",
     "output_type": "stream",
     "text": [
      "No difference in choices (vs. 50%) during free choice trials for NR rats = -0.13  [95%CI -0.27, 0.02], p=0.121\n",
      "Difference in choices (vs. 50%) during free choice trials for PR rats = 0.35  [95%CI 0.09, 0.45], p=0.006\n"
     ]
    }
   ],
   "source": [
    "output_estimation_stats(book, \"pref1_choices\", 1, \"No difference in choices (vs. 50%) during free choice trials for NR rats\")\n",
    "output_estimation_stats(book, \"pref1_choices\", 2, \"Difference in choices (vs. 50%) during free choice trials for PR rats\")"
   ]
  },
  {
   "cell_type": "markdown",
   "id": "eastern-dynamics",
   "metadata": {},
   "source": [
    "### Analysis of photometry data from Preference Test 1 (Fig 2)"
   ]
  },
  {
   "cell_type": "markdown",
   "id": "advised-mambo",
   "metadata": {},
   "source": [
    "Two-way ANOVAs comparing photometry signal in (1) AUC during licking (0-5 s following lick onset), (2) late AUC (5 s following lick termination).Factors are diet group (between, NR vs PR) and substance (within, casein vs maltodextrin). "
   ]
  },
  {
   "cell_type": "code",
   "execution_count": 8,
   "id": "therapeutic-mattress",
   "metadata": {},
   "outputs": [
    {
     "name": "stdout",
     "output_type": "stream",
     "text": [
      "\n",
      "Analysis of preference session 1\n",
      "\n",
      "ANOVA of photometry data, casein vs. maltodextrin\n",
      "\n",
      "0 Registered S3 methods overwritten by 'lme4':\n",
      "  method                          from\n",
      "  cooks.distance.influence.merMod car \n",
      "  influence.merMod                car \n",
      "  dfbeta.influence.merMod         car \n",
      "  dfbetas.influence.merMod        car \n",
      "Warning: Converting \"rat\" to factor for ANOVA.\n",
      "Warning: Converting \"substance\" to factor for ANOVA.\n",
      "Warning: Converting \"diet\" to factor for ANOVA.\n",
      "Warning: Data is unbalanced (unequal N per group). Make sure you specified a well-considered value for the type argument to ezANOVA().\n",
      " $ANOVA\n",
      "          Effect DFn DFd          F            p p<.05        ges\n",
      "2           diet   1  13  0.7833845 0.3921851148       0.05533385\n",
      "3      substance   1  13 22.2596583 0.0004019368     * 0.04569925\n",
      "4 diet:substance   1  13 10.3989123 0.0066435984     * 0.02188188\n",
      "\n",
      "\n",
      "\n",
      "Analysis of preference session 1\n",
      "\n",
      "ANOVA of photometry data (late AUC), casein vs. maltodextrin\n",
      "\n",
      "0 Registered S3 methods overwritten by 'lme4':\n",
      "  method                          from\n",
      "  cooks.distance.influence.merMod car \n",
      "  influence.merMod                car \n",
      "  dfbeta.influence.merMod         car \n",
      "  dfbetas.influence.merMod        car \n",
      "Warning: Converting \"rat\" to factor for ANOVA.\n",
      "Warning: Converting \"substance\" to factor for ANOVA.\n",
      "Warning: Converting \"diet\" to factor for ANOVA.\n",
      "Warning: Data is unbalanced (unequal N per group). Make sure you specified a well-considered value for the type argument to ezANOVA().\n",
      " $ANOVA\n",
      "          Effect DFn DFd          F         p p<.05          ges\n",
      "2           diet   1  13 0.95597269 0.3460487       0.0658802673\n",
      "3      substance   1  13 1.79681916 0.2030539       0.0056252817\n",
      "4 diet:substance   1  13 0.05138422 0.8241974       0.0001617519\n",
      "\n",
      "\n"
     ]
    }
   ],
   "source": [
    "stats_pref_photo(df_photo)"
   ]
  },
  {
   "cell_type": "markdown",
   "id": "subjective-sheffield",
   "metadata": {},
   "source": [
    "Estimation stats showing permutation p-values resulting from t-tests comparing 5000 reshuffles."
   ]
  },
  {
   "cell_type": "code",
   "execution_count": 9,
   "id": "loaded-beads",
   "metadata": {},
   "outputs": [
    {
     "name": "stdout",
     "output_type": "stream",
     "text": [
      "No difference in AUC between casein and maltodextrin in NR rats = 0.80  [95%CI -0.46, 2.17], p=0.354\n",
      "Difference in AUC between casein and maltodextrin in PR rats = 4.66  [95%CI 3.27, 6.41], p=0.003\n"
     ]
    }
   ],
   "source": [
    "output_estimation_stats(book, \"pref1_auc\", 1, \"No difference in AUC between casein and maltodextrin in NR rats\")\n",
    "output_estimation_stats(book, \"pref1_auc\", 2, \"Difference in AUC between casein and maltodextrin in PR rats\")"
   ]
  },
  {
   "cell_type": "markdown",
   "id": "failing-alarm",
   "metadata": {},
   "source": [
    "### Analysis of behavioral data from Preference Test 2 and 3 for NR->PR rats (Fig 4)"
   ]
  },
  {
   "cell_type": "code",
   "execution_count": 10,
   "id": "irish-investigation",
   "metadata": {},
   "outputs": [
    {
     "name": "stdout",
     "output_type": "stream",
     "text": [
      "No difference in licking on FORCED CHOICE trials (Pref Test 2) between casein and maltodextrin in NR->PR rats = 3.50  [95%CI -69.50, 36.00], p=0.817\n",
      "Difference in licking on FORCED CHOICE trials (Pref Test 3) between casein and maltodextrin in NR->PR rats = 81.50  [95%CI 50.00, 111.17], p=0.000\n"
     ]
    }
   ],
   "source": [
    "output_estimation_stats(book, \"pref2_forced_licks_nr\", 1,\n",
    "                        \"No difference in licking on FORCED CHOICE trials (Pref Test 2) between casein and maltodextrin in NR->PR rats\")\n",
    "\n",
    "output_estimation_stats(book, \"pref3_forced_licks_nr\", 1,\n",
    "                        \"Difference in licking on FORCED CHOICE trials (Pref Test 3) between casein and maltodextrin in NR->PR rats\")"
   ]
  },
  {
   "cell_type": "code",
   "execution_count": 11,
   "id": "renewable-panama",
   "metadata": {},
   "outputs": [
    {
     "name": "stdout",
     "output_type": "stream",
     "text": [
      "No difference in latency to lick on FORCED CHOICE trials (Pref Test 2) between casein and maltodextrin in NR->PR rats = -0.07 s [95%CI -0.94, 0.74], p=0.974\n",
      "Difference in latency to lick on FORCED CHOICE trials (Pref Test 3) between casein and maltodextrin in NR->PR rats = -2.22 s [95%CI -3.91, -1.23], p=0.030\n"
     ]
    }
   ],
   "source": [
    "output_estimation_stats(book, \"pref2_latency_nr\", 1,\n",
    "                        \"No difference in latency to lick on FORCED CHOICE trials (Pref Test 2) between casein and maltodextrin in NR->PR rats\", unit=\"s\")\n",
    "\n",
    "output_estimation_stats(book, \"pref3_latency_nr\", 1,\n",
    "                        \"Difference in latency to lick on FORCED CHOICE trials (Pref Test 3) between casein and maltodextrin in NR->PR rats\", unit=\"s\")"
   ]
  },
  {
   "cell_type": "code",
   "execution_count": 12,
   "id": "familiar-klein",
   "metadata": {},
   "outputs": [
    {
     "name": "stdout",
     "output_type": "stream",
     "text": [
      "Difference in licking on FREE CHOICE trials (Pref Test 2) between casein and maltodextrin in NR->PR rats = 330.00 s [95%CI 176.33, 440.17], p=0.000\n",
      "Difference in licking on FREE CHOICE trials (Pref Test 3) between casein and maltodextrin in NR->PR rats = 623.17 s [95%CI 511.17, 689.83], p=0.000\n"
     ]
    }
   ],
   "source": [
    "output_estimation_stats(book, \"pref2_free_licks_nr\", 1,\n",
    "                        \"Difference in licking on FREE CHOICE trials (Pref Test 2) between casein and maltodextrin in NR->PR rats\", unit=\"s\")\n",
    "\n",
    "output_estimation_stats(book, \"pref3_free_licks_nr\", 1,\n",
    "                        \"Difference in licking on FREE CHOICE trials (Pref Test 3) between casein and maltodextrin in NR->PR rats\", unit=\"s\")"
   ]
  },
  {
   "cell_type": "code",
   "execution_count": 13,
   "id": "specific-people",
   "metadata": {},
   "outputs": [
    {
     "name": "stdout",
     "output_type": "stream",
     "text": [
      "Difference in choices (vs. 50%) during FREE CHOICE trials (Pref Test 2) for NR->PR rats = 0.21  [95%CI 0.10, 0.33], p=0.030\n",
      "Difference in choices (vs. 50%) during FREE CHOICE trials (Pref Test 3) for NR->PR rats = 0.45  [95%CI 0.33, 0.48], p=0.030\n"
     ]
    }
   ],
   "source": [
    "output_estimation_stats(book, \"pref2_choices_nr\", 1,\n",
    "                        \"Difference in choices (vs. 50%) during FREE CHOICE trials (Pref Test 2) for NR->PR rats\")\n",
    "\n",
    "output_estimation_stats(book, \"pref3_choices_nr\", 1,\n",
    "                        \"Difference in choices (vs. 50%) during FREE CHOICE trials (Pref Test 3) for NR->PR rats\")"
   ]
  },
  {
   "cell_type": "markdown",
   "id": "guilty-renewal",
   "metadata": {},
   "source": [
    "### Analysis of photometry data from Preference Test 2 and 3 for NR->PR rats (Fig 4)"
   ]
  },
  {
   "cell_type": "code",
   "execution_count": 14,
   "id": "automotive-knight",
   "metadata": {},
   "outputs": [
    {
     "name": "stdout",
     "output_type": "stream",
     "text": [
      "No difference in AUC (Pref Test 2) between casein and maltodextrin in NR->PR rats = 1.59  [95%CI -0.92, 4.95], p=0.381\n",
      "No difference in AUC (Pref Test 3) between casein and maltodextrin in NR->PR rats = 2.53  [95%CI -1.84, 4.37], p=0.097\n"
     ]
    }
   ],
   "source": [
    "output_estimation_stats(book, \"pref2_auc_nr\", 1, \"No difference in AUC (Pref Test 2) between casein and maltodextrin in NR->PR rats\")\n",
    "output_estimation_stats(book, \"pref3_auc_nr\", 1, \"No difference in AUC (Pref Test 3) between casein and maltodextrin in NR->PR rats\")"
   ]
  },
  {
   "cell_type": "markdown",
   "id": "subsequent-slope",
   "metadata": {},
   "source": [
    "### Analysis of behavioral data from Preference Test 2 and 3 for PR->NR rats (Fig 5)"
   ]
  },
  {
   "cell_type": "code",
   "execution_count": 15,
   "id": "binding-possible",
   "metadata": {},
   "outputs": [
    {
     "name": "stdout",
     "output_type": "stream",
     "text": [
      "No difference in licking on FORCED CHOICE trials (Pref Test 2) between casein and maltodextrin in PR->NR rats = 34.67  [95%CI -42.44, 100.44], p=0.386\n",
      "No difference in licking on FORCED CHOICE trials (Pref Test 3) between casein and maltodextrin in PR->NR rats = -25.00  [95%CI -141.78, 64.33], p=0.682\n"
     ]
    }
   ],
   "source": [
    "output_estimation_stats(book, \"pref2_forced_licks_pr\", 1,\n",
    "                        \"No difference in licking on FORCED CHOICE trials (Pref Test 2) between casein and maltodextrin in PR->NR rats\")\n",
    "\n",
    "output_estimation_stats(book, \"pref3_forced_licks_pr\", 1,\n",
    "                        \"No difference in licking on FORCED CHOICE trials (Pref Test 3) between casein and maltodextrin in PR->NR rats\")"
   ]
  },
  {
   "cell_type": "code",
   "execution_count": 16,
   "id": "crazy-dynamics",
   "metadata": {},
   "outputs": [
    {
     "name": "stdout",
     "output_type": "stream",
     "text": [
      "Difference in latency to lick on FORCED CHOICE trials (Pref Test 2) between casein and maltodextrin in PR->NR rats = -2.11 s [95%CI -2.95, -1.22], p=0.003\n",
      "No difference in latency to lick on FORCED CHOICE trials (Pref Test 3) between casein and maltodextrin in PR->NR rats = -0.24 s [95%CI -0.91, 0.65], p=0.561\n"
     ]
    }
   ],
   "source": [
    "output_estimation_stats(book, \"pref2_latency_pr\", 1,\n",
    "                        \"Difference in latency to lick on FORCED CHOICE trials (Pref Test 2) between casein and maltodextrin in PR->NR rats\", unit=\"s\")\n",
    "\n",
    "output_estimation_stats(book, \"pref3_latency_pr\", 1,\n",
    "                        \"No difference in latency to lick on FORCED CHOICE trials (Pref Test 3) between casein and maltodextrin in PR->NR rats\", unit=\"s\")"
   ]
  },
  {
   "cell_type": "code",
   "execution_count": 17,
   "id": "productive-workplace",
   "metadata": {},
   "outputs": [
    {
     "name": "stdout",
     "output_type": "stream",
     "text": [
      "No difference in licking on FREE CHOICE trials (Pref Test 2) between casein and maltodextrin in PR->NR rats = 189.22 s [95%CI 19.89, 380.44], p=0.099\n",
      "No difference in licking on FREE CHOICE trials (Pref Test 3) between casein and maltodextrin in PR->NR rats = -11.78 s [95%CI -294.11, 279.67], p=0.922\n"
     ]
    }
   ],
   "source": [
    "output_estimation_stats(book, \"pref2_free_licks_pr\", 1,\n",
    "                        \"No difference in licking on FREE CHOICE trials (Pref Test 2) between casein and maltodextrin in PR->NR rats\", unit=\"s\")\n",
    "\n",
    "output_estimation_stats(book, \"pref3_free_licks_pr\", 1,\n",
    "                        \"No difference in licking on FREE CHOICE trials (Pref Test 3) between casein and maltodextrin in PR->NR rats\", unit=\"s\")"
   ]
  },
  {
   "cell_type": "code",
   "execution_count": 18,
   "id": "utility-setup",
   "metadata": {},
   "outputs": [
    {
     "name": "stdout",
     "output_type": "stream",
     "text": [
      "Difference in choices (vs. 50%) during FREE CHOICE trials (Pref Test 2) for PR->NR rats = 0.18  [95%CI 0.07, 0.29], p=0.020\n",
      "No difference in choices (vs. 50%) during FREE CHOICE trials (Pref Test 3) for PR->NR rats = -0.02  [95%CI -0.24, 0.18], p=0.889\n"
     ]
    }
   ],
   "source": [
    "output_estimation_stats(book, \"pref2_choices_pr\", 1,\n",
    "                        \"Difference in choices (vs. 50%) during FREE CHOICE trials (Pref Test 2) for PR->NR rats\")\n",
    "\n",
    "output_estimation_stats(book, \"pref3_choices_pr\", 1,\n",
    "                        \"No difference in choices (vs. 50%) during FREE CHOICE trials (Pref Test 3) for PR->NR rats\")"
   ]
  },
  {
   "cell_type": "markdown",
   "id": "valid-toolbox",
   "metadata": {},
   "source": [
    "### Analysis of photometry data from Preference Test 2 and 3 for NR->PR rats (Fig 4)"
   ]
  },
  {
   "cell_type": "code",
   "execution_count": 19,
   "id": "sensitive-peeing",
   "metadata": {},
   "outputs": [
    {
     "name": "stdout",
     "output_type": "stream",
     "text": [
      "Difference in AUC (Pref Test 2) between casein and maltodextrin in PR->NR rats = 3.86  [95%CI 1.54, 8.17], p=0.028\n",
      "No difference in AUC (Pref Test 3) between casein and maltodextrin in PR->NR rats = 3.24  [95%CI 0.47, 6.37], p=0.091\n"
     ]
    }
   ],
   "source": [
    "output_estimation_stats(book, \"pref2_auc_pr\", 1, \"Difference in AUC (Pref Test 2) between casein and maltodextrin in PR->NR rats\")\n",
    "output_estimation_stats(book, \"pref3_auc_pr\", 1, \"No difference in AUC (Pref Test 3) between casein and maltodextrin in PR->NR rats\")"
   ]
  },
  {
   "cell_type": "markdown",
   "id": "spectacular-fight",
   "metadata": {},
   "source": [
    "### Analysis of summary data from all preference tests for NR->PR rats (Fig 8)"
   ]
  },
  {
   "cell_type": "code",
   "execution_count": 20,
   "id": "inside-arabic",
   "metadata": {},
   "outputs": [
    {
     "name": "stdout",
     "output_type": "stream",
     "text": [
      "\n",
      "Analysis of summary data - BEHAVIOUR\n",
      "\n",
      "One-way ANOVA on NR-PR rats\n",
      "0 Registered S3 methods overwritten by 'lme4':\n",
      "  method                          from\n",
      "  cooks.distance.influence.merMod car \n",
      "  influence.merMod                car \n",
      "  dfbeta.influence.merMod         car \n",
      "  dfbetas.influence.merMod        car \n",
      "Warning: Converting \"rat\" to factor for ANOVA.\n",
      "Warning: Converting \"prefsession\" to factor for ANOVA.\n",
      " $ANOVA\n",
      "       Effect DFn DFd        F            p p<.05       ges\n",
      "2 prefsession   2  10 27.00873 9.300527e-05     * 0.7517472\n",
      "\n",
      "$`Mauchly's Test for Sphericity`\n",
      "       Effect         W         p p<.05\n",
      "2 prefsession 0.5307298 0.2816741      \n",
      "\n",
      "$`Sphericity Corrections`\n",
      "       Effect     GGe        p[GG] p[GG]<.05       HFe        p[HF] p[HF]<.05\n",
      "2 prefsession 0.68061 0.0009264092         * 0.8474434 0.0002774408         *\n",
      "\n",
      "\n"
     ]
    }
   ],
   "source": [
    "stats_summary_behav(df_behav, tests=[\"NR2PR\"])"
   ]
  },
  {
   "cell_type": "code",
   "execution_count": 21,
   "id": "expressed-bosnia",
   "metadata": {},
   "outputs": [
    {
     "name": "stdout",
     "output_type": "stream",
     "text": [
      "Difference in casein preference between Pref 1 and Pref 2 in NR->PR rats = 0.34  [95%CI 0.17, 0.53], p=0.007\n",
      "Difference in casein preference between Pref 1 and Pref 3 in NR->PR rats = 0.58  [95%CI 0.42, 0.73], p=0.001\n"
     ]
    }
   ],
   "source": [
    "output_estimation_stats(book, \"summary_nr\", 1, \"Difference in casein preference between Pref 1 and Pref 2 in NR->PR rats\")\n",
    "output_estimation_stats(book, \"summary_nr\", 2, \"Difference in casein preference between Pref 1 and Pref 3 in NR->PR rats\")"
   ]
  },
  {
   "cell_type": "code",
   "execution_count": 22,
   "id": "jewish-contest",
   "metadata": {
    "scrolled": true
   },
   "outputs": [
    {
     "name": "stdout",
     "output_type": "stream",
     "text": [
      "0 Loading required package: ez\n",
      "Registered S3 methods overwritten by 'lme4':\n",
      "  method                          from\n",
      "  cooks.distance.influence.merMod car \n",
      "  influence.merMod                car \n",
      "  dfbeta.influence.merMod         car \n",
      "  dfbetas.influence.merMod        car \n",
      "Warning: Converting \"rat\" to factor for ANOVA.\n",
      "Warning: Converting \"prefsession\" to factor for ANOVA.\n",
      "Warning: Converting \"sol\" to factor for ANOVA.\n",
      " $ANOVA\n",
      "           Effect DFn DFd         F         p p<.05        ges\n",
      "2     prefsession   2  10 0.4935556 0.6245718       0.05138491\n",
      "3             sol   1   5 5.7416124 0.0619136       0.11435626\n",
      "4 prefsession:sol   2  10 0.6692739 0.5335963       0.02058236\n",
      "\n",
      "$`Mauchly's Test for Sphericity`\n",
      "           Effect         W         p p<.05\n",
      "2     prefsession 0.7671032 0.5884473      \n",
      "4 prefsession:sol 0.8617215 0.7425639      \n",
      "\n",
      "$`Sphericity Corrections`\n",
      "           Effect       GGe     p[GG] p[GG]<.05      HFe     p[HF] p[HF]<.05\n",
      "2     prefsession 0.8110979 0.5903612           1.144704 0.6245718          \n",
      "4 prefsession:sol 0.8785196 0.5178291           1.317043 0.5335963          \n",
      "\n",
      "\n"
     ]
    }
   ],
   "source": [
    "stats_summary_photo_both_solutions(df_photo, \"NR\")"
   ]
  },
  {
   "cell_type": "markdown",
   "id": "lined-balance",
   "metadata": {},
   "source": [
    "### Analysis of summary data from all preference tests for PR->NR rats (Fig 6)"
   ]
  },
  {
   "cell_type": "code",
   "execution_count": 23,
   "id": "fuzzy-prince",
   "metadata": {
    "scrolled": true
   },
   "outputs": [
    {
     "name": "stdout",
     "output_type": "stream",
     "text": [
      "\n",
      "Analysis of summary data - BEHAVIOUR\n",
      "\n",
      "One-way ANOVA on PR-NR rats\n",
      "0 Registered S3 methods overwritten by 'lme4':\n",
      "  method                          from\n",
      "  cooks.distance.influence.merMod car \n",
      "  influence.merMod                car \n",
      "  dfbeta.influence.merMod         car \n",
      "  dfbetas.influence.merMod        car \n",
      "Warning: Converting \"rat\" to factor for ANOVA.\n",
      "Warning: Converting \"prefsession\" to factor for ANOVA.\n",
      " $ANOVA\n",
      "       Effect DFn DFd        F          p p<.05       ges\n",
      "2 prefsession   2  16 5.986393 0.01145709     * 0.2701793\n",
      "\n",
      "$`Mauchly's Test for Sphericity`\n",
      "       Effect         W         p p<.05\n",
      "2 prefsession 0.8603976 0.5908091      \n",
      "\n",
      "$`Sphericity Corrections`\n",
      "       Effect      GGe      p[GG] p[GG]<.05      HFe      p[HF] p[HF]<.05\n",
      "2 prefsession 0.877499 0.01551884         * 1.104482 0.01145709         *\n",
      "\n",
      "\n"
     ]
    }
   ],
   "source": [
    "stats_summary_behav(df_behav, tests=[\"PR2NR\"])"
   ]
  },
  {
   "cell_type": "code",
   "execution_count": 24,
   "id": "upper-canal",
   "metadata": {},
   "outputs": [
    {
     "name": "stdout",
     "output_type": "stream",
     "text": [
      "Difference in casein preference between Pref 1 and Pref 2 in PR->NR rats = -0.17  [95%CI -0.32, 0.09], p=0.119\n",
      "Difference in casein preference between Pref 1 and Pref 3 in PR->NR rats = -0.37  [95%CI -0.61, -0.09], p=0.018\n"
     ]
    }
   ],
   "source": [
    "output_estimation_stats(book, \"summary_pr\", 1, \"Difference in casein preference between Pref 1 and Pref 2 in PR->NR rats\")\n",
    "output_estimation_stats(book, \"summary_pr\", 2, \"Difference in casein preference between Pref 1 and Pref 3 in PR->NR rats\")"
   ]
  },
  {
   "cell_type": "code",
   "execution_count": 25,
   "id": "recognized-vegetarian",
   "metadata": {
    "scrolled": true
   },
   "outputs": [
    {
     "name": "stdout",
     "output_type": "stream",
     "text": [
      "0 Loading required package: ez\n",
      "Registered S3 methods overwritten by 'lme4':\n",
      "  method                          from\n",
      "  cooks.distance.influence.merMod car \n",
      "  influence.merMod                car \n",
      "  dfbeta.influence.merMod         car \n",
      "  dfbetas.influence.merMod        car \n",
      "Warning: Converting \"rat\" to factor for ANOVA.\n",
      "Warning: Converting \"prefsession\" to factor for ANOVA.\n",
      "Warning: Converting \"sol\" to factor for ANOVA.\n",
      " $ANOVA\n",
      "           Effect DFn DFd         F           p p<.05         ges\n",
      "2     prefsession   2  16  3.803015 0.044542667     * 0.137354255\n",
      "3             sol   1   8 12.769820 0.007256718     * 0.107065109\n",
      "4 prefsession:sol   2  16  0.485630 0.624089909       0.002217658\n",
      "\n",
      "$`Mauchly's Test for Sphericity`\n",
      "           Effect         W          p p<.05\n",
      "2     prefsession 0.3124841 0.01705681     *\n",
      "4 prefsession:sol 0.8445399 0.55356747      \n",
      "\n",
      "$`Sphericity Corrections`\n",
      "           Effect       GGe      p[GG] p[GG]<.05       HFe      p[HF] p[HF]<.05\n",
      "2     prefsession 0.5925870 0.07686505           0.6358611 0.07252908          \n",
      "4 prefsession:sol 0.8654561 0.59893034           1.0829494 0.62408991          \n",
      "\n",
      "\n"
     ]
    }
   ],
   "source": [
    "stats_summary_photo_both_solutions(df_photo, \"PR\")"
   ]
  },
  {
   "cell_type": "markdown",
   "id": "olympic-curve",
   "metadata": {},
   "source": [
    "### Analysis of correlations between behavior and photometry (Fig 6)"
   ]
  },
  {
   "cell_type": "code",
   "execution_count": 26,
   "id": "relevant-oracle",
   "metadata": {},
   "outputs": [
    {
     "name": "stdout",
     "output_type": "stream",
     "text": [
      "Pearson R for NR: r=0.23, p=0.350\n",
      "Betas for NR: behavior, 2.51; photometry, 0.02\n",
      "Pearson R for PR: r=0.41, p=0.034\n",
      "Betas for PR: behavior, -1.55; photometry, 0.02\n"
     ]
    }
   ],
   "source": [
    "modelNR, coefsNR = calcmodel(df_behav, df_delta, \"NR\")\n",
    "modelPR, coefsPR = calcmodel(df_behav, df_delta, \"PR\")"
   ]
  },
  {
   "cell_type": "code",
   "execution_count": 27,
   "id": "flush-evolution",
   "metadata": {},
   "outputs": [
    {
     "name": "stdout",
     "output_type": "stream",
     "text": [
      "Betas for NR: behavior, -1.32; photometry, -0.01\n",
      "Betas for PR: behavior, -0.76; photometry, 0.01\n"
     ]
    }
   ],
   "source": [
    "modelNR, coefsNR = calcmodel_state(df_behav, df_delta, \"NR\")\n",
    "modelPR, coefsPR = calcmodel_state(df_behav, df_delta, \"PR\")"
   ]
  }
 ],
 "metadata": {
  "kernelspec": {
   "display_name": "Python 3",
   "language": "python",
   "name": "python3"
  },
  "language_info": {
   "codemirror_mode": {
    "name": "ipython",
    "version": 3
   },
   "file_extension": ".py",
   "mimetype": "text/x-python",
   "name": "python",
   "nbconvert_exporter": "python",
   "pygments_lexer": "ipython3",
   "version": "3.7.2"
  }
 },
 "nbformat": 4,
 "nbformat_minor": 5
}

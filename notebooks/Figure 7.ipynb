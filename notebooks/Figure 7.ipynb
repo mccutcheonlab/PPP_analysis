{
 "cells": [
  {
   "cell_type": "markdown",
   "id": "weekly-picnic",
   "metadata": {},
   "source": [
    "## Notebook to produce Figure 7 for Chiacchierini et al. (2021)"
   ]
  },
  {
   "cell_type": "markdown",
   "id": "buried-speaking",
   "metadata": {},
   "source": [
    "![Figure 7](./figs/PPP_figs_R2_Fig7.png \"Figure 7\")"
   ]
  },
  {
   "cell_type": "code",
   "execution_count": 1,
   "id": "million-alliance",
   "metadata": {},
   "outputs": [],
   "source": [
    "import sys\n",
    "sys.path.append('..\\\\helperfx')\n",
    "\n",
    "import matplotlib as mpl\n",
    "import matplotlib.pyplot as plt\n",
    "import matplotlib.gridspec as gridspec\n",
    "import matplotlib.lines as mlines\n",
    "import matplotlib.transforms as transforms\n",
    "\n",
    "import dabest as db\n",
    "import pandas as pd\n",
    "import trompy as tp\n",
    "\n",
    "from settings4figs import *\n",
    "from fx4figs import *\n",
    "\n",
    "%matplotlib inline"
   ]
  },
  {
   "cell_type": "code",
   "execution_count": 2,
   "id": "infinite-local",
   "metadata": {},
   "outputs": [],
   "source": [
    "#Adds control column for calculating vs. 50%\n",
    "con = [0.5] * 15\n",
    "df_behav.insert(0, \"control\", con)\n",
    "\n",
    "#Initializes details for saving statistics\n",
    "stats_args = {}\n",
    "stats_args[\"file\"] = \"..\\\\stats\\\\estimation_stats.xlsx\"\n",
    "stats_args[\"file\"] = \"\" # Comment this line out to write a new stats file\n",
    "\n",
    "# with pd.ExcelWriter(stats_args[\"file\"]) as writer:\n",
    "#     df_behav[\"control\"].to_excel(writer, sheet_name=\"front\")"
   ]
  },
  {
   "cell_type": "markdown",
   "id": "liked-daughter",
   "metadata": {},
   "source": [
    "### Panel B - forced choice licks for PR to NR rats (Pref Test 2)"
   ]
  },
  {
   "cell_type": "code",
   "execution_count": 3,
   "id": "powerful-stamp",
   "metadata": {},
   "outputs": [
    {
     "name": "stdout",
     "output_type": "stream",
     "text": [
      "No stats file to write to.\n"
     ]
    },
    {
     "data": {
      "image/png": "[encoded data removed]",
      "text/plain": [
       "<Figure size 72x126 with 2 Axes>"
      ]
     },
     "metadata": {
      "needs_background": "light"
     },
     "output_type": "display_data"
    }
   ],
   "source": [
    "keys = [\"pref2_malt_forced\", \"pref2_cas_forced\"]\n",
    "stats_args[\"sheet\"] = \"pref2_forced_licks_pr\"\n",
    "data, df = prep4estimationstats_1group(df_behav, [\"PR\"], keys)\n",
    "fig7B = barscatter_plus_estimation_1group(data, df, colors=\"control\", ylabel=\"Licks (forced)\", stats_args=stats_args)"
   ]
  },
  {
   "cell_type": "markdown",
   "id": "continent-punch",
   "metadata": {},
   "source": [
    "### Panel C - latencies for PR to NR rats (Pref Test 2)"
   ]
  },
  {
   "cell_type": "code",
   "execution_count": 4,
   "id": "future-nirvana",
   "metadata": {},
   "outputs": [
    {
     "name": "stdout",
     "output_type": "stream",
     "text": [
      "No stats file to write to.\n"
     ]
    },
    {
     "data": {
      "image/png": "[encoded data removed]",
      "text/plain": [
       "<Figure size 72x126 with 2 Axes>"
      ]
     },
     "metadata": {
      "needs_background": "light"
     },
     "output_type": "display_data"
    }
   ],
   "source": [
    "keys = [\"pref2_malt_lats_fromsip\", \"pref2_cas_lats_fromsip\"]\n",
    "stats_args[\"sheet\"] = \"pref2_latency_pr\"\n",
    "data, df = prep4estimationstats_1group(df_photo, [\"PR\"], keys)\n",
    "fig7C = barscatter_plus_estimation_1group(data, df, colors=\"control\", ylabel=\"Latency (s)\", stats_args=stats_args)"
   ]
  },
  {
   "cell_type": "markdown",
   "id": "corresponding-avatar",
   "metadata": {},
   "source": [
    "### Panel D - free choice licks for PR to NR rats (Pref Test 2)"
   ]
  },
  {
   "cell_type": "code",
   "execution_count": 11,
   "id": "organic-dryer",
   "metadata": {},
   "outputs": [
    {
     "name": "stdout",
     "output_type": "stream",
     "text": [
      "No stats file to write to.\n"
     ]
    },
    {
     "data": {
      "image/png": "[encoded data removed]",
      "text/plain": [
       "<Figure size 72x126 with 2 Axes>"
      ]
     },
     "metadata": {
      "needs_background": "light"
     },
     "output_type": "display_data"
    }
   ],
   "source": [
    "keys = [\"pref2_malt_free\", \"pref2_cas_free\"]\n",
    "stats_args[\"sheet\"] = \"pref2_free_licks_pr\"\n",
    "data, df = prep4estimationstats_1group(df_behav, [\"PR\"], keys)\n",
    "fig7D = barscatter_plus_estimation_1group(data, df, colors=\"control\", ylabel=\"Licks (free)\", stats_args=stats_args)\n",
    "# fig7D.savefig(\"..\\\\figs\\\\fig5_p3.pdf\")"
   ]
  },
  {
   "cell_type": "markdown",
   "id": "atomic-plaintiff",
   "metadata": {},
   "source": [
    "### Panel E - average photometry signal (Pref Test 2)"
   ]
  },
  {
   "cell_type": "code",
   "execution_count": 6,
   "id": "russian-prayer",
   "metadata": {},
   "outputs": [
    {
     "data": {
      "image/png": "[encoded data removed]",
      "text/plain": [
       "<Figure size 108x144 with 2 Axes>"
      ]
     },
     "metadata": {
      "needs_background": "light"
     },
     "output_type": "display_data"
    }
   ],
   "source": [
    "keys = ['pref2_cas_licks_forced', 'pref2_malt_licks_forced']\n",
    "fig7E = photogroup_panel(df_photo, keys, \"PR\", colorgroup=\"control\")"
   ]
  },
  {
   "cell_type": "markdown",
   "id": "settled-advice",
   "metadata": {},
   "source": [
    "### Panel F - AUC for PR to NR rats (Pref Test 2)"
   ]
  },
  {
   "cell_type": "code",
   "execution_count": 7,
   "id": "major-swimming",
   "metadata": {},
   "outputs": [
    {
     "name": "stdout",
     "output_type": "stream",
     "text": [
      "No stats file to write to.\n"
     ]
    },
    {
     "data": {
      "image/png": "[encoded data removed]",
      "text/plain": [
       "<Figure size 72x126 with 2 Axes>"
      ]
     },
     "metadata": {
      "needs_background": "light"
     },
     "output_type": "display_data"
    }
   ],
   "source": [
    "keys = [\"pref2_auc_malt\", \"pref2_auc_cas\"]\n",
    "stats_args[\"sheet\"] = \"pref2_auc_pr\"\n",
    "data, df = prep4estimationstats_1group(df_photo, [\"PR\"], keys)\n",
    "fig7F = barscatter_plus_estimation_1group(data, df, colors=\"control\", ylabel=\"AUC\", stats_args=stats_args)"
   ]
  },
  {
   "cell_type": "markdown",
   "id": "fatal-boring",
   "metadata": {},
   "source": [
    "### Panel H - forced choice licks for PR to NR rats (Pref Test 3)"
   ]
  },
  {
   "cell_type": "code",
   "execution_count": 8,
   "id": "sharp-refund",
   "metadata": {},
   "outputs": [
    {
     "name": "stdout",
     "output_type": "stream",
     "text": [
      "No stats file to write to.\n"
     ]
    },
    {
     "data": {
      "image/png": "[encoded data removed]",
      "text/plain": [
       "<Figure size 72x126 with 2 Axes>"
      ]
     },
     "metadata": {
      "needs_background": "light"
     },
     "output_type": "display_data"
    }
   ],
   "source": [
    "keys = [\"pref3_malt_forced\", \"pref3_cas_forced\", ]\n",
    "stats_args[\"sheet\"] = \"pref3_forced_licks_pr\"\n",
    "data, df = prep4estimationstats_1group(df_behav, [\"PR\"], keys)\n",
    "fig7H = barscatter_plus_estimation_1group(data, df, colors=\"control\", ylabel=\"Licks (forced)\", stats_args=stats_args)"
   ]
  },
  {
   "cell_type": "markdown",
   "id": "generic-camera",
   "metadata": {},
   "source": [
    "### Panel I - latencies for PR to NR rats (Pref Test 3)"
   ]
  },
  {
   "cell_type": "code",
   "execution_count": 9,
   "id": "reliable-marketing",
   "metadata": {
    "scrolled": true
   },
   "outputs": [
    {
     "name": "stdout",
     "output_type": "stream",
     "text": [
      "No stats file to write to.\n"
     ]
    },
    {
     "data": {
      "image/png": "[encoded data removed]",
      "text/plain": [
       "<Figure size 72x126 with 2 Axes>"
      ]
     },
     "metadata": {
      "needs_background": "light"
     },
     "output_type": "display_data"
    }
   ],
   "source": [
    "keys = [\"pref3_malt_lats_fromsip\", \"pref3_cas_lats_fromsip\"]\n",
    "stats_args[\"sheet\"] = \"pref3_latency_pr\"\n",
    "data, df = prep4estimationstats_1group(df_photo, [\"PR\"], keys)\n",
    "fig7I = barscatter_plus_estimation_1group(data, df, colors=\"control\", ylabel=\"Latency (s)\", stats_args=stats_args)"
   ]
  },
  {
   "cell_type": "markdown",
   "id": "optimum-alpha",
   "metadata": {},
   "source": [
    "### Panel J - free choice licks for PR to NR rats (Pref Test 3)"
   ]
  },
  {
   "cell_type": "code",
   "execution_count": 10,
   "id": "usual-tract",
   "metadata": {},
   "outputs": [
    {
     "name": "stdout",
     "output_type": "stream",
     "text": [
      "No stats file to write to.\n"
     ]
    },
    {
     "data": {
      "image/png": "[encoded data removed]",
      "text/plain": [
       "<Figure size 72x126 with 2 Axes>"
      ]
     },
     "metadata": {
      "needs_background": "light"
     },
     "output_type": "display_data"
    }
   ],
   "source": [
    "keys = [\"pref3_malt_free\", \"pref3_cas_free\", ]\n",
    "stats_args[\"sheet\"] = \"pref3_free_licks_pr\"\n",
    "data, df = prep4estimationstats_1group(df_behav, [\"PR\"], keys)\n",
    "fig7J = barscatter_plus_estimation_1group(data, df, colors=\"control\", ylabel=\"Licks (free)\", stats_args=stats_args)\n",
    "# fig7J.savefig(\"..\\\\figs\\\\fig5_p9.pdf\")"
   ]
  },
  {
   "cell_type": "markdown",
   "id": "assisted-palmer",
   "metadata": {},
   "source": [
    "### Panel K - average photometry signal (Pref Test 3)"
   ]
  },
  {
   "cell_type": "code",
   "execution_count": 11,
   "id": "reliable-chinese",
   "metadata": {},
   "outputs": [
    {
     "data": {
      "image/png": "[encoded data removed]",
      "text/plain": [
       "<Figure size 108x144 with 2 Axes>"
      ]
     },
     "metadata": {
      "needs_background": "light"
     },
     "output_type": "display_data"
    },
    {
     "data": {
      "image/png": "[encoded data removed]",
      "text/plain": [
       "<Figure size 108x144 with 2 Axes>"
      ]
     },
     "metadata": {
      "needs_background": "light"
     },
     "output_type": "display_data"
    }
   ],
   "source": [
    "keys = ['pref2_cas_licks_forced', 'pref2_malt_licks_forced']\n",
    "fig7E = photogroup_panel(df_photo, keys, \"PR\", colorgroup=\"control\")\n",
    "\n",
    "keys = ['pref3_cas_licks_forced', 'pref3_malt_licks_forced']\n",
    "fig7K = photogroup_panel(df_photo, keys, \"PR\", colorgroup=\"control\")"
   ]
  },
  {
   "cell_type": "markdown",
   "id": "agricultural-keyboard",
   "metadata": {},
   "source": [
    "### Panel L - AUC for PR to NR rats (Pref Test 3)"
   ]
  },
  {
   "cell_type": "code",
   "execution_count": 12,
   "id": "parliamentary-affiliate",
   "metadata": {},
   "outputs": [
    {
     "name": "stdout",
     "output_type": "stream",
     "text": [
      "No stats file to write to.\n"
     ]
    },
    {
     "data": {
      "image/png": "[encoded data removed]",
      "text/plain": [
       "<Figure size 72x126 with 2 Axes>"
      ]
     },
     "metadata": {
      "needs_background": "light"
     },
     "output_type": "display_data"
    }
   ],
   "source": [
    "keys = [\"pref3_auc_malt\", \"pref3_auc_cas\", ]\n",
    "stats_args[\"sheet\"] = \"pref3_auc_pr\"\n",
    "data, df = prep4estimationstats_1group(df_photo, [\"PR\"], keys)\n",
    "fig7L = barscatter_plus_estimation_1group(data, df, colors=\"control\", ylabel=\"AUC\", stats_args=stats_args)"
   ]
  },
  {
   "cell_type": "code",
   "execution_count": null,
   "id": "registered-quilt",
   "metadata": {},
   "outputs": [],
   "source": []
  }
 ],
 "metadata": {
  "kernelspec": {
   "display_name": "Python 3",
   "language": "python",
   "name": "python3"
  },
  "language_info": {
   "codemirror_mode": {
    "name": "ipython",
    "version": 3
   },
   "file_extension": ".py",
   "mimetype": "text/x-python",
   "name": "python",
   "nbconvert_exporter": "python",
   "pygments_lexer": "ipython3",
   "version": "3.7.2"
  }
 },
 "nbformat": 4,
 "nbformat_minor": 5
}

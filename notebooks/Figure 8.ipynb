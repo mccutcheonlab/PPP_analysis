{
 "cells": [
  {
   "cell_type": "markdown",
   "id": "north-virgin",
   "metadata": {},
   "source": [
    "## Notebook to produce Figure 8 for Chiacchierini et al. (2021)"
   ]
  },
  {
   "attachments": {},
   "cell_type": "markdown",
   "id": "acquired-fruit",
   "metadata": {},
   "source": [
    "![Figure 8](./figs/PPP_figs_R2_Fig8.png \"Figure 8\")"
   ]
  },
  {
   "cell_type": "code",
   "execution_count": 1,
   "id": "trying-sellers",
   "metadata": {},
   "outputs": [],
   "source": [
    "import sys\n",
    "sys.path.append('..\\\\helperfx')\n",
    "\n",
    "import matplotlib as mpl\n",
    "import matplotlib.pyplot as plt\n",
    "import matplotlib.gridspec as gridspec\n",
    "import matplotlib.lines as mlines\n",
    "import matplotlib.transforms as transforms\n",
    "\n",
    "import dabest as db\n",
    "import pandas as pd\n",
    "import trompy as tp\n",
    "\n",
    "from settings4figs import *\n",
    "from fx4figs import *\n",
    "\n",
    "%matplotlib inline"
   ]
  },
  {
   "cell_type": "code",
   "execution_count": 2,
   "id": "dense-fruit",
   "metadata": {},
   "outputs": [],
   "source": [
    "#Adds control column for calculating vs. 50%\n",
    "con = [0.5] * 15\n",
    "df_behav.insert(0, \"control\", con)\n",
    "\n",
    "#Initializes details for saving statistics\n",
    "stats_args = {}\n",
    "stats_args[\"file\"] = \"..\\\\stats\\\\estimation_stats.xlsx\"\n",
    "stats_args[\"file\"] = \"\" # Comment this line out to write a new stats file\n",
    "\n",
    "# with pd.ExcelWriter(stats_args[\"file\"]) as writer:\n",
    "#     df_behav[\"control\"].to_excel(writer, sheet_name=\"front\")"
   ]
  },
  {
   "cell_type": "code",
   "execution_count": 3,
   "id": "accessory-scene",
   "metadata": {},
   "outputs": [],
   "source": [
    "epoch = [100, 149]\n",
    "\n",
    "behavkeys = keys = ['pref1', 'pref2', 'pref3']\n",
    "\n",
    "photokeys = [['pref1_cas_licks_forced', 'pref1_malt_licks_forced'],\n",
    "        ['pref2_cas_licks_forced', 'pref2_malt_licks_forced'],\n",
    "        ['pref3_cas_licks_forced', 'pref3_malt_licks_forced']]"
   ]
  },
  {
   "cell_type": "markdown",
   "id": "satisfied-forth",
   "metadata": {},
   "source": [
    "### Panel A - Pref over days for NR to PR rats"
   ]
  },
  {
   "cell_type": "code",
   "execution_count": 4,
   "id": "reverse-riding",
   "metadata": {},
   "outputs": [
    {
     "name": "stdout",
     "output_type": "stream",
     "text": [
      "No stats file to write to.\n"
     ]
    },
    {
     "data": {
      "image/png": "[encoded data removed]",
      "text/plain": [
       "<Figure size 93.6x126 with 2 Axes>"
      ]
     },
     "metadata": {
      "needs_background": "light"
     },
     "output_type": "display_data"
    }
   ],
   "source": [
    "stats_args[\"sheet\"] = \"summary_nr\"\n",
    "data, df = prep4estimationstats_summary(df_behav, [\"NR\"], behavkeys)\n",
    "fig8A = barscatter_plus_estimation_summary(data, df, colors=\"control\", ylabel=\"Casein preference\", stats_args=stats_args)"
   ]
  },
  {
   "cell_type": "markdown",
   "id": "absolute-marks",
   "metadata": {},
   "source": [
    "### Panel B - Photometry over days for NR to PR rats"
   ]
  },
  {
   "cell_type": "code",
   "execution_count": 5,
   "id": "vulnerable-emperor",
   "metadata": {
    "scrolled": true
   },
   "outputs": [
    {
     "data": {
      "image/png": "[encoded data removed]",
      "text/plain": [
       "<Figure size 93.6x126 with 1 Axes>"
      ]
     },
     "metadata": {
      "needs_background": "light"
     },
     "output_type": "display_data"
    }
   ],
   "source": [
    "keys = [['pref1_cas_licks_forced', 'pref1_malt_licks_forced'],\n",
    "        ['pref2_cas_licks_forced', 'pref2_malt_licks_forced'],\n",
    "        ['pref3_cas_licks_forced', 'pref3_malt_licks_forced']]\n",
    "fig8B = summary_subfig_casmalt(df_photo, \"NR\", photokeys)"
   ]
  },
  {
   "cell_type": "markdown",
   "id": "ahead-recorder",
   "metadata": {},
   "source": [
    "### Panel C - Photometry vs. behavior for NR to PR rats"
   ]
  },
  {
   "cell_type": "code",
   "execution_count": 6,
   "id": "natural-defeat",
   "metadata": {
    "scrolled": true
   },
   "outputs": [
    {
     "data": {
      "image/png": "[encoded data removed]",
      "text/plain": [
       "<Figure size 115.2x126 with 1 Axes>"
      ]
     },
     "metadata": {
      "needs_background": "light"
     },
     "output_type": "display_data"
    }
   ],
   "source": [
    "fig8C = summary_subfig_correl(df_behav, df_delta, 'NR', use_zscore_diff=True)"
   ]
  },
  {
   "cell_type": "markdown",
   "id": "representative-roommate",
   "metadata": {},
   "source": [
    "### Panel D - Pref over days for PR to NR rats"
   ]
  },
  {
   "cell_type": "code",
   "execution_count": 7,
   "id": "correct-apparel",
   "metadata": {},
   "outputs": [
    {
     "name": "stdout",
     "output_type": "stream",
     "text": [
      "No stats file to write to.\n"
     ]
    },
    {
     "data": {
      "image/png": "[encoded data removed]",
      "text/plain": [
       "<Figure size 93.6x126 with 2 Axes>"
      ]
     },
     "metadata": {
      "needs_background": "light"
     },
     "output_type": "display_data"
    }
   ],
   "source": [
    "stats_args[\"sheet\"] = \"summary_pr\"\n",
    "data, df = prep4estimationstats_summary(df_behav, [\"PR\"], behavkeys)\n",
    "fig8D = barscatter_plus_estimation_summary(data, df, colors=\"expt\", ylabel=\"Casein preference\", stats_args=stats_args)"
   ]
  },
  {
   "cell_type": "markdown",
   "id": "assisted-marine",
   "metadata": {},
   "source": [
    "### Panel E - Photometry over days for PR to NR rats"
   ]
  },
  {
   "cell_type": "code",
   "execution_count": 8,
   "id": "fiscal-dispute",
   "metadata": {
    "scrolled": false
   },
   "outputs": [
    {
     "data": {
      "image/png": "[encoded data removed]",
      "text/plain": [
       "<Figure size 93.6x126 with 1 Axes>"
      ]
     },
     "metadata": {
      "needs_background": "light"
     },
     "output_type": "display_data"
    }
   ],
   "source": [
    "keys = [['pref1_cas_licks_forced', 'pref1_malt_licks_forced'],\n",
    "        ['pref2_cas_licks_forced', 'pref2_malt_licks_forced'],\n",
    "        ['pref3_cas_licks_forced', 'pref3_malt_licks_forced']]\n",
    "fig8E = summary_subfig_casmalt(df_photo, \"PR\", photokeys)"
   ]
  },
  {
   "cell_type": "markdown",
   "id": "saving-barbados",
   "metadata": {},
   "source": [
    "### Panel F - Photometry vs. behavior for PR to NR rats"
   ]
  },
  {
   "cell_type": "code",
   "execution_count": 9,
   "id": "cross-seeker",
   "metadata": {
    "scrolled": true
   },
   "outputs": [
    {
     "data": {
      "image/png": "[encoded data removed]",
      "text/plain": [
       "<Figure size 115.2x126 with 1 Axes>"
      ]
     },
     "metadata": {
      "needs_background": "light"
     },
     "output_type": "display_data"
    }
   ],
   "source": [
    "fig8F = summary_subfig_correl(df_behav, df_delta, 'PR', use_zscore_diff=True)"
   ]
  },
  {
   "cell_type": "markdown",
   "id": "painted-observation",
   "metadata": {},
   "source": [
    "### Panel G - Individual rat-by-rat comparisons"
   ]
  },
  {
   "cell_type": "code",
   "execution_count": 10,
   "id": "thorough-fraction",
   "metadata": {},
   "outputs": [
    {
     "data": {
      "image/png": "[encoded data removed]",
      "text/plain": [
       "<Figure size 216x144 with 6 Axes>"
      ]
     },
     "metadata": {},
     "output_type": "display_data"
    }
   ],
   "source": [
    "s10_NR = get_proportions(df_pies, \"s10\", \"NR\")\n",
    "s10_PR = get_proportions(df_pies, \"s10\", \"PR\")\n",
    "\n",
    "s11_NR = get_proportions(df_pies, \"s11\", \"NR\")\n",
    "s11_PR = get_proportions(df_pies, \"s11\", \"PR\")\n",
    "\n",
    "s16_NR = get_proportions(df_pies, \"s16\", \"NR\")\n",
    "s16_PR = get_proportions(df_pies, \"s16\", \"PR\")\n",
    "\n",
    "fig8G, ax = plt.subplots(ncols=3, nrows=2, figsize=(3, 2))\n",
    "\n",
    "makepie(s10_NR, ax[0][0])\n",
    "makepie(s10_PR, ax[1][0])\n",
    "\n",
    "makepie(s11_NR, ax[0][1])\n",
    "makepie(s11_PR, ax[1][1])\n",
    "\n",
    "makepie(s16_NR, ax[0][2])\n",
    "makepie(s16_PR, ax[1][2])"
   ]
  },
  {
   "cell_type": "code",
   "execution_count": null,
   "id": "opposite-truck",
   "metadata": {},
   "outputs": [],
   "source": []
  }
 ],
 "metadata": {
  "kernelspec": {
   "display_name": "Python 3",
   "language": "python",
   "name": "python3"
  },
  "language_info": {
   "codemirror_mode": {
    "name": "ipython",
    "version": 3
   },
   "file_extension": ".py",
   "mimetype": "text/x-python",
   "name": "python",
   "nbconvert_exporter": "python",
   "pygments_lexer": "ipython3",
   "version": "3.7.2"
  }
 },
 "nbformat": 4,
 "nbformat_minor": 5
}

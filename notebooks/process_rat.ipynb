{
 "cells": [
  {
   "cell_type": "code",
   "execution_count": 1,
   "metadata": {},
   "outputs": [],
   "source": [
    "import tdt\n",
    "import numpy as np\n",
    "import matplotlib.pyplot as plt\n",
    "\n",
    "import scipy.signal as sig\n",
    "\n",
    "%run \"..\\\\..\\\\functions-and-figures\\\\JM_general_functions.py\""
   ]
  },
  {
   "cell_type": "code",
   "execution_count": 2,
   "metadata": {},
   "outputs": [],
   "source": [
    "class Session(object):\n",
    "    \n",
    "    def __init__(self, sessionID, metafiledata, hrows, datafolder, outputfolder):\n",
    "        self.sessionID = sessionID\n",
    "        self.sessiontype = metafiledata[hrows['stype']]\n",
    "        self.medfile = metafiledata[hrows['medfile']]\n",
    "        self.rat = metafiledata[hrows['rat']].replace('.', '-')\n",
    "        self.session = metafiledata[hrows['session']]\n",
    "        self.diet = metafiledata[hrows['dietgroup']]\n",
    "        self.box = metafiledata[hrows['box']]\n",
    "        self.bottleL = metafiledata[hrows['bottleL']]\n",
    "        self.bottleR = metafiledata[hrows['bottleR']]\n",
    "        \n",
    "        self.ttl_trialsL = metafiledata[hrows['ttl-trialL']]\n",
    "        self.ttl_trialsR = metafiledata[hrows['ttl-trialR']]\n",
    "        self.ttl_licksL = metafiledata[hrows['ttl-lickL']]\n",
    "        self.ttl_licksR = metafiledata[hrows['ttl-lickR']]\n",
    "        \n",
    "        self.left = {}\n",
    "        self.right = {}\n",
    "        self.both = {}\n",
    "        self.left['subs'] = metafiledata[hrows['bottleL']]\n",
    "        self.right['subs'] = metafiledata[hrows['bottleR']]\n",
    "        \n",
    "        self.tdtfile = datafolder + metafiledata[hrows['tdtfile']]\n",
    "        self.SigBlue = metafiledata[hrows['sig-blue']]\n",
    "        self.SigUV = metafiledata[hrows['sig-uv']]\n",
    "        \n",
    "        self.outputfolder = outputfolder\n",
    "        \n",
    "    def loaddata(self):\n",
    "        try:\n",
    "            tmp = tdt.read_block(self.tdtfile, evtype=['streams'], store=[self.SigBlue])\n",
    "            self.data = getattr(tmp.streams, self.SigBlue)['data']\n",
    "            self.fs = getattr(tmp.streams, self.SigBlue)['fs']\n",
    "\n",
    "            tmp = tdt.read_block(self.tdtfile, evtype=['streams'], store=[self.SigUV])\n",
    "            self.dataUV = getattr(tmp.streams, self.SigUV)['data']\n",
    "\n",
    "            self.ttls = tdt.read_block(self.tdtfile, evtype=['epocs']).epocs\n",
    "        except:\n",
    "            print('Unable to load data properly.')\n",
    "            \n",
    "    def setticks(self):\n",
    "        try:\n",
    "            self.tick = self.ttls['Tick'].onset\n",
    "        except AttributeError:\n",
    "            print('Problem setting ticks')        \n",
    "        \n",
    "    def time2samples(self):\n",
    "        maxsamples = len(self.tick)*int(self.fs)\n",
    "        if (len(self.data) - maxsamples) > 2*int(self.fs):\n",
    "            print('Something may be wrong with conversion from time to samples')\n",
    "            print(str(len(self.data) - maxsamples) + ' samples left over. This is more than double fs.')\n",
    "            self.t2sMap = np.linspace(min(self.tick), max(self.tick), maxsamples)\n",
    "        else:\n",
    "            self.t2sMap = np.linspace(min(self.tick), max(self.tick), maxsamples)\n",
    "\n",
    "    def event2sample(self, EOI):\n",
    "        idx = (np.abs(self.t2sMap - EOI)).argmin()   \n",
    "        return idx\n",
    "\n",
    "    def check4events(self):\n",
    "        try:\n",
    "            lt = getattr(self.ttls, self.ttl_trialsL)\n",
    "            self.left['exist'] = True\n",
    "            self.left['sipper'] = lt.onset\n",
    "            self.left['sipper_off'] = lt.offset\n",
    "            ll = getattr(self.ttls, self.ttl_licksL)\n",
    "            self.left['licks'] = np.array([i for i in ll.onset if i<max(self.left['sipper_off'])])\n",
    "            self.left['licks_off'] = ll.offset[:len(self.left['licks'])]\n",
    "        except AttributeError:\n",
    "            self.left['exist'] = False\n",
    "            self.left['sipper'] = []\n",
    "            self.left['sipper_off'] = []\n",
    "            self.left['licks'] = []\n",
    "            self.left['licks_off'] = []\n",
    "           \n",
    "        try:\n",
    "            rt = getattr(self.ttls, self.ttl_trialsR)\n",
    "            self.right['exist'] = True\n",
    "            self.right['sipper'] = rt.onset\n",
    "            self.right['sipper_off'] = rt.offset\n",
    "            rl = getattr(self.ttls, self.ttl_licksR)\n",
    "            self.right['licks'] = np.array([i for i in rl.onset if i<max(self.right['sipper_off'])])\n",
    "            self.right['licks_off'] = rl.offset[:len(self.right['licks'])]\n",
    "        except AttributeError:\n",
    "            self.right['exist'] = False\n",
    "            self.right['sipper'] = []\n",
    "            self.right['sipper_off'] = []\n",
    "            self.right['licks'] = []\n",
    "            self.right['licks_off'] = []\n",
    "            \n",
    "        if self.left['exist'] == True and self.right['exist'] == True:\n",
    "            try:\n",
    "                first = findfreechoice(self.left['sipper'], self.right['sipper'])\n",
    "                self.both['sipper'] = self.left['sipper'][first:]\n",
    "                self.both['sipper_off'] = self.left['sipper_off'][first:]\n",
    "                self.left['sipper'] = self.left['sipper'][:first-1]\n",
    "                self.left['sipper_off'] = self.left['sipper_off'][:first-1]\n",
    "                self.right['sipper'] = self.right['sipper'][:first-1]\n",
    "                self.right['sipper_off'] = self.right['sipper_off'][:first-1]\n",
    "                self.left['licks-forced'], self.left['licks-free'] = dividelicks(self.left['licks'], self.both['sipper'][0])\n",
    "                self.right['licks-forced'], self.right['licks-free'] = dividelicks(self.right['licks'], self.both['sipper'][0])\n",
    "                self.left['nlicks-forced'] = len(self.left['licks-forced'])\n",
    "                self.right['nlicks-forced'] = len(self.right['licks-forced'])\n",
    "                self.left['nlicks-free'] = len(self.left['licks-free'])\n",
    "                self.right['nlicks-free'] = len(self.right['licks-free'])\n",
    "\n",
    "            except IndexError:\n",
    "                print('Problem separating out free choice trials')\n",
    "        else:\n",
    "            self.left['licks-forced'] = self.left['licks']\n",
    "            self.right['licks-forced'] = self.right['licks']\n",
    "            \n",
    "    def setbottlecolors(self):\n",
    "        casein_color = 'xkcd:pale purple'\n",
    "        malt_color = 'xkcd:sky blue'\n",
    "        \n",
    "        # sets default colors, e.g. to be used on saccharin or water days\n",
    "        self.left['color'] = 'xkcd:grey'\n",
    "        self.right['color'] = 'xkcd:greyish blue'\n",
    "           \n",
    "        if 'cas' in self.bottleL:\n",
    "            self.left['color'] = casein_color\n",
    "        if 'malt' in self.bottleL:\n",
    "            self.left['color'] = malt_color\n",
    "        \n",
    "        if 'cas' in self.bottleR:\n",
    "            self.right['color'] = casein_color\n",
    "        if 'malt' in self.bottleR:\n",
    "            self.right['color'] = malt_color\n",
    "\n",
    "    def side2subs(self):\n",
    "        if 'cas' in self.left['subs']:\n",
    "            self.cas = self.left\n",
    "        if 'cas' in self.right['subs']:\n",
    "            self.cas = self.right\n",
    "        if 'malt' in self.left['subs']:\n",
    "            self.malt = self.left\n",
    "        if 'malt' in self.right['subs']:\n",
    "            self.malt = self.right\n",
    "\n",
    "def findfreechoice(left, right):\n",
    "    first = [idx for idx, x in enumerate(left) if x in right][0]\n",
    "    return first\n",
    "        \n",
    "def dividelicks(licks, time):\n",
    "    before = [x for x in licks if x < time]\n",
    "    after = [x for x in licks if x > time]\n",
    "    \n",
    "    return before, after  \n",
    "        "
   ]
  },
  {
   "cell_type": "code",
   "execution_count": 3,
   "metadata": {},
   "outputs": [],
   "source": [
    "def correctforbaseline(blue, uv):\n",
    "    pt = len(blue)\n",
    "    X = np.fft.rfft(uv, pt)\n",
    "    Y = np.fft.rfft(blue, pt)\n",
    "    Ynet = Y-X\n",
    "\n",
    "    datafilt = np.fft.irfft(Ynet)\n",
    "\n",
    "    datafilt = sig.detrend(datafilt)\n",
    "\n",
    "    b, a = sig.butter(9, 0.012, 'low', analog=True)\n",
    "    datafilt = sig.filtfilt(b, a, datafilt)\n",
    "    \n",
    "    return datafilt"
   ]
  },
  {
   "cell_type": "code",
   "execution_count": 4,
   "metadata": {
    "scrolled": true
   },
   "outputs": [],
   "source": [
    "def metafile2sessions(xlfile, metafile, datafolder, outputfolder, sheetname='metafile'):\n",
    "    metafilemaker(xlfile, metafile, sheetname=sheetname, fileformat='txt')\n",
    "    rows, header = metafilereader(metafile + '.txt')\n",
    "    \n",
    "    hrows = {}\n",
    "    for idx, field in enumerate(header):\n",
    "        hrows[field] = idx\n",
    "    \n",
    "    sessions = {}\n",
    "    \n",
    "    for row in rows:\n",
    "        sessionID = row[hrows['rat']].replace('.','-') + '_' + row[hrows['session']]\n",
    "        sessions[sessionID] = Session(sessionID, row, hrows, datafolder, outputfolder)\n",
    "    \n",
    "    return sessions"
   ]
  },
  {
   "cell_type": "code",
   "execution_count": 5,
   "metadata": {},
   "outputs": [],
   "source": [
    "test_sessions = metafile2sessions(\"..\\\\data\\\\test.xlsx\",\n",
    "                                  \"..\\\\data\\\\test\",\n",
    "                                  \"..\\\\data\\\\\",\n",
    "                                  \"..\\\\output\\\\\")"
   ]
  },
  {
   "cell_type": "code",
   "execution_count": 7,
   "metadata": {},
   "outputs": [
    {
     "name": "stdout",
     "output_type": "stream",
     "text": [
      "read from t=0s to t=2473.96s\n",
      "read from t=0s to t=2473.96s\n",
      "read from t=0s to t=2473.96s\n"
     ]
    }
   ],
   "source": [
    "test_sessions\n",
    "s = test_sessions['PPP1-7_s10']\n",
    "s.loaddata()\n",
    "s.data_filt = correctforbaseline(s.data, s.dataUV)\n",
    "s.setticks()\n",
    "s.time2samples()\n",
    "s.check4events()\n",
    "s.setbottlecolors()"
   ]
  },
  {
   "cell_type": "code",
   "execution_count": 8,
   "metadata": {},
   "outputs": [],
   "source": [
    "try:\n",
    "    s.left['lickdata'] = lickCalc(s.left['licks'],\n",
    "                      offset = s.left['licks_off'],\n",
    "                      burstThreshold = 0.50)\n",
    "except IndexError:\n",
    "    s.left['lickdata'] = 'none'\n",
    "    print('No left licks')\n",
    "    \n",
    "try:\n",
    "    s.right['lickdata'] = lickCalc(s.right['licks'],\n",
    "              offset = s.right['licks_off'],\n",
    "              burstThreshold = 0.50)\n",
    "except IndexError:\n",
    "    s.right['lickdata'] = 'none'\n",
    "    print('No right licks')"
   ]
  },
  {
   "cell_type": "code",
   "execution_count": 9,
   "metadata": {},
   "outputs": [],
   "source": [
    "bins = 300\n",
    "\n",
    "s.randomevents = makerandomevents(120, max(s.tick)-120)\n",
    "s.bgTrials, s.pps = snipper(s.data, s.randomevents,\n",
    "                                t2sMap = s.t2sMap, fs = s.fs, bins=bins)"
   ]
  },
  {
   "cell_type": "code",
   "execution_count": 10,
   "metadata": {},
   "outputs": [
    {
     "name": "stdout",
     "output_type": "stream",
     "text": [
      "No latency events found\n",
      "No latency events found\n",
      "No latency events found\n",
      "No latency events found\n"
     ]
    }
   ],
   "source": [
    "for side in [s.left, s.right]:   \n",
    "    if side['exist'] == True:\n",
    "        side['snips_sipper'] = mastersnipper(s, side['sipper'], peak_between_time=[0, 5])\n",
    "        side['snips_licks'] = mastersnipper(s, side['lickdata']['rStart'], peak_between_time=[0, 2])\n",
    "        try:\n",
    "            timelock_events = [licks for licks in side['lickdata']['rStart'] if licks in side['licks-forced']]\n",
    "            latency_events = side['sipper']\n",
    "            side['snips_licks_forced'] = mastersnipper(s, timelock_events, peak_between_time=[0, 2],\n",
    "                                                            latency_events=latency_events, latency_direction='pre')\n",
    "        except KeyError:\n",
    "            pass\n",
    "        try:\n",
    "            side['lats'] = latencyCalc(side['lickdata']['licks'], side['sipper'], cueoff=side['sipper_off'], lag=0)\n",
    "        except TypeError:\n",
    "            print('Cannot work out latencies as there are lick and/or sipper values missing.')\n",
    "            side['lats'] = []\n",
    "s.side2subs()"
   ]
  },
  {
   "cell_type": "code",
   "execution_count": 36,
   "metadata": {},
   "outputs": [
    {
     "data": {
      "text/plain": [
       "[<matplotlib.lines.Line2D at 0x2542c6c0400>]"
      ]
     },
     "execution_count": 36,
     "metadata": {},
     "output_type": "execute_result"
    },
    {
     "data": {
      "image/png": "[encoded data removed]",
      "text/plain": [
       "<Figure size 864x216 with 3 Axes>"
      ]
     },
     "metadata": {
      "needs_background": "light"
     },
     "output_type": "display_data"
    }
   ],
   "source": [
    "f, ax = plt.subplots(ncols=3, figsize=(12, 3))\n",
    "ax[0].plot(s.blue, color='blue')\n",
    "ax[1].plot(s.uv, color='pink')\n",
    "ax[2].plot(s.data, color='red')\n",
    "\n"
   ]
  },
  {
   "cell_type": "code",
   "execution_count": 22,
   "metadata": {},
   "outputs": [
    {
     "data": {
      "text/plain": [
       "[<matplotlib.lines.Line2D at 0x129b3578b00>]"
      ]
     },
     "execution_count": 22,
     "metadata": {},
     "output_type": "execute_result"
    },
    {
     "data": {
      "image/png": "[encoded data removed]",
      "text/plain": [
       "<Figure size 864x288 with 6 Axes>"
      ]
     },
     "metadata": {
      "needs_background": "light"
     },
     "output_type": "display_data"
    }
   ],
   "source": [
    "s.cas\n",
    "\n",
    "f, ax = plt.subplots(ncols=6, figsize=(12,4))\n",
    "ax[0].plot(np.mean(s.cas['snips_licks_forced']['blue'], axis=0))\n",
    "ax[1].plot(np.mean(s.cas['snips_licks_forced']['blue_raw'], axis=0))\n",
    "ax[2].plot(np.mean(s.cas['snips_licks_forced']['blue_z'], axis=0))\n",
    "ax[3].plot(np.mean(s.cas['snips_licks_forced']['blue_z_adj'], axis=0))"
   ]
  },
  {
   "cell_type": "code",
   "execution_count": 13,
   "metadata": {},
   "outputs": [
    {
     "data": {
      "text/plain": [
       "dict_keys(['blue', 'blue_raw', 'blue_z', 'blue_z_adj', 'uv', 'uv_raw', 'uv_z', 'noise', 'diff', 'peak', 'latency'])"
      ]
     },
     "execution_count": 13,
     "metadata": {},
     "output_type": "execute_result"
    }
   ],
   "source": [
    "s.cas['snips_licks_forced'].keys()"
   ]
  },
  {
   "cell_type": "code",
   "execution_count": 18,
   "metadata": {
    "scrolled": true
   },
   "outputs": [
    {
     "data": {
      "text/plain": [
       "Tick\t[struct]\n",
       "Cam2\t[struct]\n",
       "Cam1\t[struct]\n",
       "LT1_\t[struct]\n",
       "LL1_\t[struct]\n",
       "RT1_\t[struct]\n",
       "RL1_\t[struct]\n",
       "LT2_\t[struct]\n",
       "LL2_\t[struct]\n",
       "RT2_\t[struct]\n",
       "RL2_\t[struct]"
      ]
     },
     "execution_count": 18,
     "metadata": {},
     "output_type": "execute_result"
    }
   ],
   "source": [
    "s.ttls"
   ]
  },
  {
   "cell_type": "code",
   "execution_count": 7,
   "metadata": {},
   "outputs": [
    {
     "data": {
      "text/plain": [
       "array([1.64747238e-04, 1.00024414e+00, 2.00032353e+00, ...,\n",
       "       2.47119626e+03, 2.47219634e+03, 2.47319642e+03])"
      ]
     },
     "execution_count": 7,
     "metadata": {},
     "output_type": "execute_result"
    }
   ],
   "source": [
    "s.ttls['Tick'].onset"
   ]
  },
  {
   "cell_type": "code",
   "execution_count": 35,
   "metadata": {},
   "outputs": [
    {
     "data": {
      "text/plain": [
       "'LT1_'"
      ]
     },
     "execution_count": 35,
     "metadata": {},
     "output_type": "execute_result"
    }
   ],
   "source": [
    "ONSET=[-10]\n",
    "values = s.ttls['LT1_'].onset\n",
    "s.ttl_trialsL"
   ]
  },
  {
   "cell_type": "code",
   "execution_count": 26,
   "metadata": {},
   "outputs": [
    {
     "data": {
      "text/plain": [
       "array([ 149.27069283,  180.73419881,  256.39485526,  288.0682404 ,\n",
       "        397.48534369,  456.76134491,  474.85599828,  560.47747159,\n",
       "        591.83104086,  608.19865704,  681.50132823,  712.87488604,\n",
       "        795.92833114,  874.37705302,  943.13185382,  974.5661962 ,\n",
       "       1058.86171222, 1080.33245277, 1106.68087387, 1137.9954493 ,\n",
       "       1247.0984714 , 1285.61889386, 1343.7108233 , 1365.06949735,\n",
       "       1391.36893034, 1422.68842077, 1458.99176025, 1475.32841063,\n",
       "       1501.11502433, 1532.42746973, 1568.70180964, 1584.55562329,\n",
       "       1605.34528089, 1621.18287444, 1647.4895165 , 1683.80481625,\n",
       "       1705.17348456, 1735.95885658, 1762.27745891, 1793.58187604,\n",
       "       1830.01514077, 1845.84896612])"
      ]
     },
     "execution_count": 26,
     "metadata": {},
     "output_type": "execute_result"
    }
   ],
   "source": [
    "values"
   ]
  },
  {
   "cell_type": "code",
   "execution_count": 32,
   "metadata": {},
   "outputs": [
    {
     "name": "stdout",
     "output_type": "stream",
     "text": [
      "read from t=0s to t=2473.96s\n"
     ]
    }
   ],
   "source": [
    "tmp = tdt.read_block(s.tdtfile)"
   ]
  },
  {
   "cell_type": "code",
   "execution_count": 46,
   "metadata": {},
   "outputs": [
    {
     "ename": "ValueError",
     "evalue": "The truth value of an array with more than one element is ambiguous. Use a.any() or a.all()",
     "output_type": "error",
     "traceback": [
      "\u001b[1;31m---------------------------------------------------------------------------\u001b[0m",
      "\u001b[1;31mValueError\u001b[0m                                Traceback (most recent call last)",
      "\u001b[1;32m<ipython-input-46-b99cb4d9160f>\u001b[0m in \u001b[0;36m<module>\u001b[1;34m\u001b[0m\n\u001b[0;32m      1\u001b[0m \u001b[0mONSET\u001b[0m\u001b[1;33m=\u001b[0m\u001b[1;33m[\u001b[0m\u001b[1;33m-\u001b[0m\u001b[1;36m3\u001b[0m\u001b[1;33m]\u001b[0m\u001b[1;33m\u001b[0m\u001b[1;33m\u001b[0m\u001b[0m\n\u001b[1;32m----> 2\u001b[1;33m \u001b[0mtdt\u001b[0m\u001b[1;33m.\u001b[0m\u001b[0mepoc_filter\u001b[0m\u001b[1;33m(\u001b[0m\u001b[0mtmp\u001b[0m\u001b[1;33m,\u001b[0m \u001b[1;34m'RT1/'\u001b[0m\u001b[1;33m,\u001b[0m \u001b[0mt\u001b[0m\u001b[1;33m=\u001b[0m\u001b[0mONSET\u001b[0m\u001b[1;33m)\u001b[0m\u001b[1;33m\u001b[0m\u001b[1;33m\u001b[0m\u001b[0m\n\u001b[0m",
      "\u001b[1;32mC:\\ProgramData\\Anaconda3\\lib\\site-packages\\tdt\\TDTfilter.py\u001b[0m in \u001b[0;36mepoc_filter\u001b[1;34m(data, epoc, values, modifiers, t, tref, keepdata)\u001b[0m\n\u001b[0;32m    372\u001b[0m             \u001b[0mts\u001b[0m \u001b[1;33m=\u001b[0m \u001b[0mdata\u001b[0m\u001b[1;33m.\u001b[0m\u001b[0mscalars\u001b[0m\u001b[1;33m[\u001b[0m\u001b[0mk\u001b[0m\u001b[1;33m]\u001b[0m\u001b[1;33m.\u001b[0m\u001b[0mts\u001b[0m\u001b[1;33m\u001b[0m\u001b[1;33m\u001b[0m\u001b[0m\n\u001b[0;32m    373\u001b[0m             \u001b[0mkeep\u001b[0m \u001b[1;33m=\u001b[0m \u001b[0mget_valid_ind\u001b[0m\u001b[1;33m(\u001b[0m\u001b[0mts\u001b[0m\u001b[1;33m,\u001b[0m \u001b[0mtime_ranges\u001b[0m\u001b[1;33m)\u001b[0m\u001b[1;33m;\u001b[0m\u001b[1;33m\u001b[0m\u001b[1;33m\u001b[0m\u001b[0m\n\u001b[1;32m--> 374\u001b[1;33m             \u001b[1;32mif\u001b[0m \u001b[0mkeep\u001b[0m\u001b[1;33m:\u001b[0m\u001b[1;33m\u001b[0m\u001b[1;33m\u001b[0m\u001b[0m\n\u001b[0m\u001b[0;32m    375\u001b[0m                 \u001b[1;31m# scalars can have multiple rows\u001b[0m\u001b[1;33m\u001b[0m\u001b[1;33m\u001b[0m\u001b[1;33m\u001b[0m\u001b[0m\n\u001b[0;32m    376\u001b[0m                 \u001b[1;32mif\u001b[0m \u001b[0mdata\u001b[0m\u001b[1;33m.\u001b[0m\u001b[0mscalars\u001b[0m\u001b[1;33m[\u001b[0m\u001b[0mk\u001b[0m\u001b[1;33m]\u001b[0m\u001b[1;33m.\u001b[0m\u001b[0mdata\u001b[0m\u001b[1;33m.\u001b[0m\u001b[0mndim\u001b[0m \u001b[1;33m>\u001b[0m \u001b[1;36m1\u001b[0m\u001b[1;33m:\u001b[0m\u001b[1;33m\u001b[0m\u001b[1;33m\u001b[0m\u001b[0m\n",
      "\u001b[1;31mValueError\u001b[0m: The truth value of an array with more than one element is ambiguous. Use a.any() or a.all()"
     ]
    }
   ],
   "source": [
    "ONSET=[-3]\n",
    "tdt.epoc_filter(tmp, 'RT1/', t=ONSET)"
   ]
  },
  {
   "cell_type": "code",
   "execution_count": 42,
   "metadata": {},
   "outputs": [
    {
     "data": {
      "text/plain": [
       "<function tdt.TDTfilter.epoc_filter(data, epoc, *, values=None, modifiers=None, t=None, tref=False, keepdata=True)>"
      ]
     },
     "execution_count": 42,
     "metadata": {},
     "output_type": "execute_result"
    }
   ],
   "source": [
    "tdt.epoc_filter"
   ]
  },
  {
   "cell_type": "code",
   "execution_count": null,
   "metadata": {},
   "outputs": [],
   "source": []
  }
 ],
 "metadata": {
  "kernelspec": {
   "display_name": "Python 3",
   "language": "python",
   "name": "python3"
  },
  "language_info": {
   "codemirror_mode": {
    "name": "ipython",
    "version": 3
   },
   "file_extension": ".py",
   "mimetype": "text/x-python",
   "name": "python",
   "nbconvert_exporter": "python",
   "pygments_lexer": "ipython3",
   "version": "3.7.3"
  }
 },
 "nbformat": 4,
 "nbformat_minor": 2
}

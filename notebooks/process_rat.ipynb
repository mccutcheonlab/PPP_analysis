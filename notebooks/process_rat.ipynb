{
 "cells": [
  {
   "cell_type": "code",
   "execution_count": 59,
   "metadata": {},
   "outputs": [],
   "source": [
    "import tdt\n",
    "import numpy as np\n",
    "import matplotlib.pyplot as plt\n",
    "\n",
    "import scipy.signal as sig\n",
    "\n",
    "%run fx4assembly.py\n",
    "%run fx4behavior.py\n",
    "%run fx4makingsnips.py\n",
    "\n",
    "%matplotlib inline"
   ]
  },
  {
   "cell_type": "code",
   "execution_count": 60,
   "metadata": {},
   "outputs": [],
   "source": [
    "test_sessions = metafile2sessions(\"..\\\\data\\\\test_ppp3.xlsx\",\n",
    "                                  \"..\\\\data\\\\test\",\n",
    "                                  \"..\\\\data\\\\\",\n",
    "                                  \"..\\\\output\\\\\")"
   ]
  },
  {
   "cell_type": "code",
   "execution_count": 61,
   "metadata": {},
   "outputs": [],
   "source": [
    "ppp4_sessions = metafile2sessions('D:\\\\DA_and_Reward\\\\gc214\\\\PPP4\\\\PPP4.xlsx',\n",
    "                                  'D:\\\\DA_and_Reward\\\\gc214\\\\PPP4\\\\PPP4_metafile',\n",
    "                                  'D:\\\\DA_and_Reward\\\\gc214\\\\PPP4\\\\tdtfiles\\\\',\n",
    "                                  'D:\\\\DA_and_Reward\\\\gc214\\\\PPP4\\\\output\\\\',\n",
    "                                  sheetname='PPP4_metafile')"
   ]
  },
  {
   "cell_type": "code",
   "execution_count": 78,
   "metadata": {},
   "outputs": [
    {
     "name": "stdout",
     "output_type": "stream",
     "text": [
      "Found Synapse note file: D:\\DA_and_Reward\\gc214\\PPP4\\tdtfiles\\Giulia-191004-094448\\Notes.txt\n",
      "read from t=0s to t=2194.27s\n",
      "Found Synapse note file: D:\\DA_and_Reward\\gc214\\PPP4\\tdtfiles\\Giulia-191004-094448\\Notes.txt\n",
      "read from t=0s to t=2194.27s\n",
      "Found Synapse note file: D:\\DA_and_Reward\\gc214\\PPP4\\tdtfiles\\Giulia-191004-094448\\Notes.txt\n",
      "read from t=0s to t=2194.27s\n"
     ]
    }
   ],
   "source": [
    "test_sessions\n",
    "# s = test_sessions['PPP1-7_s10'] # for testing PPP1\n",
    "# s = test_sessions['PPP1-7_s10'] # for testing PPP3\n",
    "\n",
    "s = ppp4_sessions['PPP4-4_s10'] # for testing different rats in PPP4\n",
    "\n",
    "s.loaddata()\n",
    "s.data_filt = correctforbaseline(s.data, s.dataUV)\n",
    "s.setticks()\n",
    "s.time2samples()\n",
    "s.check4events()\n",
    "s.setbottlecolors()"
   ]
  },
  {
   "cell_type": "code",
   "execution_count": 79,
   "metadata": {},
   "outputs": [],
   "source": [
    "try:\n",
    "    s.left['lickdata'] = lickCalc(s.left['licks'],\n",
    "                      offset = s.left['licks_off'],\n",
    "                      burstThreshold = 0.50)\n",
    "except IndexError:\n",
    "    s.left['lickdata'] = 'none'\n",
    "    print('No left licks')\n",
    "    \n",
    "try:\n",
    "    s.right['lickdata'] = lickCalc(s.right['licks'],\n",
    "              offset = s.right['licks_off'],\n",
    "              burstThreshold = 0.50)\n",
    "except IndexError:\n",
    "    s.right['lickdata'] = 'none'\n",
    "    print('No right licks')"
   ]
  },
  {
   "cell_type": "code",
   "execution_count": 80,
   "metadata": {},
   "outputs": [],
   "source": [
    "bins = 300\n",
    "\n",
    "s.randomevents = makerandomevents(120, max(s.tick)-120)\n",
    "s.bgTrials, s.pps = snipper(s.data, s.randomevents,\n",
    "                                t2sMap = s.t2sMap, fs = s.fs, bins=bins)"
   ]
  },
  {
   "cell_type": "code",
   "execution_count": 81,
   "metadata": {},
   "outputs": [
    {
     "name": "stdout",
     "output_type": "stream",
     "text": [
      "21 events to analyze.\n",
      "0 noise trials removed\n"
     ]
    },
    {
     "ename": "TypeError",
     "evalue": "'<' not supported between instances of 'list' and 'int'",
     "output_type": "error",
     "traceback": [
      "\u001b[1;31m---------------------------------------------------------------------------\u001b[0m",
      "\u001b[1;31mTypeError\u001b[0m                                 Traceback (most recent call last)",
      "\u001b[1;32m<ipython-input-81-98132a8c1f8e>\u001b[0m in \u001b[0;36m<module>\u001b[1;34m\u001b[0m\n\u001b[0;32m      3\u001b[0m         side['snips_sipper'] = mastersnipper(s, side['sipper'], peak_between_time=[0, 5],\n\u001b[0;32m      4\u001b[0m                                              \u001b[0mlatency_events\u001b[0m\u001b[1;33m=\u001b[0m\u001b[0mside\u001b[0m\u001b[1;33m[\u001b[0m\u001b[1;34m'lickdata'\u001b[0m\u001b[1;33m]\u001b[0m\u001b[1;33m[\u001b[0m\u001b[1;34m'rStart'\u001b[0m\u001b[1;33m]\u001b[0m\u001b[1;33m,\u001b[0m\u001b[1;33m\u001b[0m\u001b[1;33m\u001b[0m\u001b[0m\n\u001b[1;32m----> 5\u001b[1;33m                                              latency_direction='post')\n\u001b[0m\u001b[0;32m      6\u001b[0m         side['snips_licks'] = mastersnipper(s, side['lickdata']['rStart'], peak_between_time=[0, 2],\n\u001b[0;32m      7\u001b[0m                                             \u001b[0mlatency_events\u001b[0m\u001b[1;33m=\u001b[0m\u001b[0mside\u001b[0m\u001b[1;33m[\u001b[0m\u001b[1;34m'sipper'\u001b[0m\u001b[1;33m]\u001b[0m\u001b[1;33m,\u001b[0m\u001b[1;33m\u001b[0m\u001b[1;33m\u001b[0m\u001b[0m\n",
      "\u001b[1;32mC:\\Github\\PPP_analysis\\notebooks\\fx4makingsnips.py\u001b[0m in \u001b[0;36mmastersnipper\u001b[1;34m(x, events, bins, preTrial, trialLength, threshold, peak_between_time, output_as_dict, latency_events, latency_direction, max_latency, verbose)\u001b[0m\n\u001b[0;32m    150\u001b[0m                         \u001b[0mlatency\u001b[0m\u001b[1;33m.\u001b[0m\u001b[0mappend\u001b[0m\u001b[1;33m(\u001b[0m\u001b[1;33m[\u001b[0m\u001b[1;33m]\u001b[0m\u001b[1;33m)\u001b[0m\u001b[1;33m\u001b[0m\u001b[1;33m\u001b[0m\u001b[0m\n\u001b[0;32m    151\u001b[0m \u001b[1;33m\u001b[0m\u001b[0m\n\u001b[1;32m--> 152\u001b[1;33m             \u001b[0mlatency\u001b[0m \u001b[1;33m=\u001b[0m \u001b[1;33m[\u001b[0m\u001b[0mx\u001b[0m \u001b[1;32mif\u001b[0m \u001b[1;33m(\u001b[0m\u001b[0mx\u001b[0m\u001b[1;33m<\u001b[0m\u001b[0mmax_latency\u001b[0m\u001b[1;33m)\u001b[0m \u001b[1;32melse\u001b[0m \u001b[0mnp\u001b[0m\u001b[1;33m.\u001b[0m\u001b[0mNaN\u001b[0m \u001b[1;32mfor\u001b[0m \u001b[0mx\u001b[0m \u001b[1;32min\u001b[0m \u001b[0mlatency\u001b[0m\u001b[1;33m]\u001b[0m\u001b[1;33m\u001b[0m\u001b[1;33m\u001b[0m\u001b[0m\n\u001b[0m\u001b[0;32m    153\u001b[0m             \u001b[1;32mif\u001b[0m \u001b[0mlatency_direction\u001b[0m \u001b[1;33m==\u001b[0m \u001b[1;34m'pre'\u001b[0m\u001b[1;33m:\u001b[0m\u001b[1;33m\u001b[0m\u001b[1;33m\u001b[0m\u001b[0m\n\u001b[0;32m    154\u001b[0m                 \u001b[0mlatency\u001b[0m \u001b[1;33m=\u001b[0m \u001b[1;33m[\u001b[0m\u001b[1;33m-\u001b[0m\u001b[0mx\u001b[0m \u001b[1;32mfor\u001b[0m \u001b[0mx\u001b[0m \u001b[1;32min\u001b[0m \u001b[0mlatency\u001b[0m\u001b[1;33m]\u001b[0m\u001b[1;33m\u001b[0m\u001b[1;33m\u001b[0m\u001b[0m\n",
      "\u001b[1;32mC:\\Github\\PPP_analysis\\notebooks\\fx4makingsnips.py\u001b[0m in \u001b[0;36m<listcomp>\u001b[1;34m(.0)\u001b[0m\n\u001b[0;32m    150\u001b[0m                         \u001b[0mlatency\u001b[0m\u001b[1;33m.\u001b[0m\u001b[0mappend\u001b[0m\u001b[1;33m(\u001b[0m\u001b[1;33m[\u001b[0m\u001b[1;33m]\u001b[0m\u001b[1;33m)\u001b[0m\u001b[1;33m\u001b[0m\u001b[1;33m\u001b[0m\u001b[0m\n\u001b[0;32m    151\u001b[0m \u001b[1;33m\u001b[0m\u001b[0m\n\u001b[1;32m--> 152\u001b[1;33m             \u001b[0mlatency\u001b[0m \u001b[1;33m=\u001b[0m \u001b[1;33m[\u001b[0m\u001b[0mx\u001b[0m \u001b[1;32mif\u001b[0m \u001b[1;33m(\u001b[0m\u001b[0mx\u001b[0m\u001b[1;33m<\u001b[0m\u001b[0mmax_latency\u001b[0m\u001b[1;33m)\u001b[0m \u001b[1;32melse\u001b[0m \u001b[0mnp\u001b[0m\u001b[1;33m.\u001b[0m\u001b[0mNaN\u001b[0m \u001b[1;32mfor\u001b[0m \u001b[0mx\u001b[0m \u001b[1;32min\u001b[0m \u001b[0mlatency\u001b[0m\u001b[1;33m]\u001b[0m\u001b[1;33m\u001b[0m\u001b[1;33m\u001b[0m\u001b[0m\n\u001b[0m\u001b[0;32m    153\u001b[0m             \u001b[1;32mif\u001b[0m \u001b[0mlatency_direction\u001b[0m \u001b[1;33m==\u001b[0m \u001b[1;34m'pre'\u001b[0m\u001b[1;33m:\u001b[0m\u001b[1;33m\u001b[0m\u001b[1;33m\u001b[0m\u001b[0m\n\u001b[0;32m    154\u001b[0m                 \u001b[0mlatency\u001b[0m \u001b[1;33m=\u001b[0m \u001b[1;33m[\u001b[0m\u001b[1;33m-\u001b[0m\u001b[0mx\u001b[0m \u001b[1;32mfor\u001b[0m \u001b[0mx\u001b[0m \u001b[1;32min\u001b[0m \u001b[0mlatency\u001b[0m\u001b[1;33m]\u001b[0m\u001b[1;33m\u001b[0m\u001b[1;33m\u001b[0m\u001b[0m\n",
      "\u001b[1;31mTypeError\u001b[0m: '<' not supported between instances of 'list' and 'int'"
     ]
    }
   ],
   "source": [
    "for side in [s.left, s.right]:   \n",
    "    if side['exist'] == True:\n",
    "        side['snips_sipper'] = mastersnipper(s, side['sipper'], peak_between_time=[0, 5],\n",
    "                                             latency_events=side['lickdata']['rStart'],\n",
    "                                             latency_direction='post')\n",
    "        side['snips_licks'] = mastersnipper(s, side['lickdata']['rStart'], peak_between_time=[0, 2],\n",
    "                                            latency_events=side['sipper'],\n",
    "                                            latency_direction='pre')\n",
    "                                           \n",
    "        try:\n",
    "            forced_licks = [licks for licks in side['lickdata']['rStart'] if licks in side['licks-forced']]\n",
    "            side['snips_licks_forced'] = mastersnipper(s, forced_licks, peak_between_time=[0, 2],\n",
    "                                                       latency_events=side['sipper'],\n",
    "                                                       latency_direction='pre')\n",
    "        except KeyError:\n",
    "            pass\n",
    "        try:\n",
    "            side['lats'] = latencyCalc(side['lickdata']['licks'], side['sipper'], cueoff=side['sipper_off'], lag=0)\n",
    "        except TypeError:\n",
    "            print('Cannot work out latencies as there are lick and/or sipper values missing.')\n",
    "            side['lats'] = []\n",
    "s.side2subs()"
   ]
  },
  {
   "cell_type": "code",
   "execution_count": 82,
   "metadata": {
    "scrolled": true
   },
   "outputs": [
    {
     "ename": "AttributeError",
     "evalue": "'Session' object has no attribute 'cas'",
     "output_type": "error",
     "traceback": [
      "\u001b[1;31m---------------------------------------------------------------------------\u001b[0m",
      "\u001b[1;31mAttributeError\u001b[0m                            Traceback (most recent call last)",
      "\u001b[1;32m<ipython-input-82-42a14be06557>\u001b[0m in \u001b[0;36m<module>\u001b[1;34m\u001b[0m\n\u001b[0;32m      1\u001b[0m \u001b[0mf\u001b[0m\u001b[1;33m,\u001b[0m \u001b[0max\u001b[0m \u001b[1;33m=\u001b[0m \u001b[0mplt\u001b[0m\u001b[1;33m.\u001b[0m\u001b[0msubplots\u001b[0m\u001b[1;33m(\u001b[0m\u001b[0mncols\u001b[0m\u001b[1;33m=\u001b[0m\u001b[1;36m2\u001b[0m\u001b[1;33m)\u001b[0m\u001b[1;33m\u001b[0m\u001b[1;33m\u001b[0m\u001b[0m\n\u001b[1;32m----> 2\u001b[1;33m \u001b[0max\u001b[0m\u001b[1;33m[\u001b[0m\u001b[1;36m0\u001b[0m\u001b[1;33m]\u001b[0m\u001b[1;33m.\u001b[0m\u001b[0mplot\u001b[0m\u001b[1;33m(\u001b[0m\u001b[0ms\u001b[0m\u001b[1;33m.\u001b[0m\u001b[0mcas\u001b[0m\u001b[1;33m[\u001b[0m\u001b[1;34m'snips_sipper'\u001b[0m\u001b[1;33m]\u001b[0m\u001b[1;33m[\u001b[0m\u001b[1;34m'filt_avg_z'\u001b[0m\u001b[1;33m]\u001b[0m\u001b[1;33m)\u001b[0m\u001b[1;33m\u001b[0m\u001b[1;33m\u001b[0m\u001b[0m\n\u001b[0m\u001b[0;32m      3\u001b[0m \u001b[1;32mfor\u001b[0m \u001b[0mtrial\u001b[0m \u001b[1;32min\u001b[0m \u001b[0ms\u001b[0m\u001b[1;33m.\u001b[0m\u001b[0mcas\u001b[0m\u001b[1;33m[\u001b[0m\u001b[1;34m'snips_sipper'\u001b[0m\u001b[1;33m]\u001b[0m\u001b[1;33m[\u001b[0m\u001b[1;34m'filt_z'\u001b[0m\u001b[1;33m]\u001b[0m\u001b[1;33m:\u001b[0m\u001b[1;33m\u001b[0m\u001b[1;33m\u001b[0m\u001b[0m\n\u001b[0;32m      4\u001b[0m     \u001b[0max\u001b[0m\u001b[1;33m[\u001b[0m\u001b[1;36m1\u001b[0m\u001b[1;33m]\u001b[0m\u001b[1;33m.\u001b[0m\u001b[0mplot\u001b[0m\u001b[1;33m(\u001b[0m\u001b[0mtrial\u001b[0m\u001b[1;33m)\u001b[0m\u001b[1;33m\u001b[0m\u001b[1;33m\u001b[0m\u001b[0m\n",
      "\u001b[1;31mAttributeError\u001b[0m: 'Session' object has no attribute 'cas'"
     ]
    },
    {
     "data": {
      "image/png": "[encoded data removed]",
      "text/plain": [
       "<Figure size 432x288 with 2 Axes>"
      ]
     },
     "metadata": {
      "needs_background": "light"
     },
     "output_type": "display_data"
    }
   ],
   "source": [
    "f, ax = plt.subplots(ncols=2)\n",
    "ax[0].plot(s.cas['snips_sipper']['filt_avg_z'])\n",
    "for trial in s.cas['snips_sipper']['filt_z']:\n",
    "    ax[1].plot(trial)\n"
   ]
  },
  {
   "cell_type": "code",
   "execution_count": 8,
   "metadata": {},
   "outputs": [
    {
     "data": {
      "text/plain": [
       "[<matplotlib.lines.Line2D at 0x232bd33a2b0>]"
      ]
     },
     "execution_count": 8,
     "metadata": {},
     "output_type": "execute_result"
    },
    {
     "data": {
      "image/png": "[encoded data removed]",
      "text/plain": [
       "<Figure size 864x216 with 3 Axes>"
      ]
     },
     "metadata": {
      "needs_background": "light"
     },
     "output_type": "display_data"
    }
   ],
   "source": [
    "f, ax = plt.subplots(ncols=3, figsize=(12, 3))\n",
    "ax[0].plot(s.data, color='blue')\n",
    "ax[1].plot(s.dataUV, color='pink')\n",
    "ax[2].plot(s.data_filt, color='red')\n",
    "\n"
   ]
  },
  {
   "cell_type": "code",
   "execution_count": null,
   "metadata": {},
   "outputs": [],
   "source": [
    "# side=s.right\n",
    "# side['snips_sipper'] = mastersnipper_filt(s, side['sipper'], peak_between_time=[0, 5])\n",
    "# s.side2subs()"
   ]
  },
  {
   "cell_type": "code",
   "execution_count": null,
   "metadata": {},
   "outputs": [],
   "source": [
    "# ax[0].plot(np.mean(s.cas['snips_sipper']['filt'], axis=0))\n",
    "# ax[1].plot(np.mean(s.cas['snips_sipper']['filt_z'], axis=0))\n",
    "# ax[2].plot(np.mean(s.cas['snips_sipper']['filt_z_adjBL'], axis=0))\n",
    "# ax[3].plot(s.cas['snips_sipper']['filt_avg'])\n",
    "\n",
    "    \n",
    "for blue, uv, diff, filt, filt_z in zip(s.cas['snips_sipper']['blue'],\n",
    "                                        s.cas['snips_sipper']['uv'],\n",
    "                                        s.cas['snips_sipper']['diff'],\n",
    "                                        s.cas['snips_sipper']['filt'],\n",
    "                                        s.cas['snips_sipper']['filt_z']):\n",
    "    f, ax = plt.subplots(ncols=4, figsize=(12,4))\n",
    "    ax[0].plot(blue)\n",
    "    ax[0].plot(uv)\n",
    "    ax[1].plot(diff)\n",
    "    ax[2].plot(filt)\n",
    "    ax[3].plot(filt_z)"
   ]
  },
  {
   "cell_type": "code",
   "execution_count": null,
   "metadata": {},
   "outputs": [],
   "source": [
    "s.cas['snips_sipper']['blue']"
   ]
  },
  {
   "cell_type": "code",
   "execution_count": null,
   "metadata": {},
   "outputs": [],
   "source": [
    "s.cas['snips_licks_forced'].keys()"
   ]
  },
  {
   "cell_type": "code",
   "execution_count": null,
   "metadata": {
    "scrolled": false
   },
   "outputs": [],
   "source": [
    "s.ttls"
   ]
  },
  {
   "cell_type": "code",
   "execution_count": null,
   "metadata": {},
   "outputs": [],
   "source": [
    "# how do we work out if there are n consecutive values that exceed a certain threshold (z_thresh) in a certain time window (e.g. 0-5 s after event)?\n",
    "for filt_z in s.cas['snips_sipper']['filt_z']:\n",
    "#     f, ax = plt.subplots()\n",
    "#     ax.plot(filt_z)\n",
    "    thresh = 2.5\n",
    "    signifarray = [1 if val > thresh else 0 for val in filt_z[100:151]]\n",
    "    \n",
    "    \n",
    "print(signifarray)"
   ]
  },
  {
   "cell_type": "code",
   "execution_count": null,
   "metadata": {},
   "outputs": [],
   "source": [
    "diff = np.diff(signifarray)\n",
    "diff.index(-1)"
   ]
  },
  {
   "cell_type": "code",
   "execution_count": null,
   "metadata": {},
   "outputs": [],
   "source": [
    "np?"
   ]
  },
  {
   "cell_type": "code",
   "execution_count": null,
   "metadata": {},
   "outputs": [],
   "source": []
  }
 ],
 "metadata": {
  "kernelspec": {
   "display_name": "Python 3",
   "language": "python",
   "name": "python3"
  },
  "language_info": {
   "codemirror_mode": {
    "name": "ipython",
    "version": 3
   },
   "file_extension": ".py",
   "mimetype": "text/x-python",
   "name": "python",
   "nbconvert_exporter": "python",
   "pygments_lexer": "ipython3",
   "version": "3.7.3"
  }
 },
 "nbformat": 4,
 "nbformat_minor": 2
}

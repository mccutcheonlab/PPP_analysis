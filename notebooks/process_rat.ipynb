{
 "cells": [
  {
   "cell_type": "code",
   "execution_count": 1,
   "metadata": {},
   "outputs": [],
   "source": [
    "import tdt\n",
    "import numpy as np\n",
    "import matplotlib.pyplot as plt\n",
    "\n",
    "import scipy.signal as sig\n",
    "\n",
    "%run fx-for-assembly.py\n",
    "%run fx-for-behavior.py\n",
    "%run fx-for-making-snips.py\n",
    "\n",
    "%matplotlib inline"
   ]
  },
  {
   "cell_type": "code",
   "execution_count": 2,
   "metadata": {},
   "outputs": [],
   "source": [
    "test_sessions = metafile2sessions(\"..\\\\data\\\\test.xlsx\",\n",
    "                                  \"..\\\\data\\\\test\",\n",
    "                                  \"..\\\\data\\\\\",\n",
    "                                  \"..\\\\output\\\\\")"
   ]
  },
  {
   "cell_type": "code",
   "execution_count": 3,
   "metadata": {},
   "outputs": [
    {
     "name": "stdout",
     "output_type": "stream",
     "text": [
      "read from t=0s to t=2473.96s\n",
      "read from t=0s to t=2473.96s\n",
      "read from t=0s to t=2473.96s\n"
     ]
    }
   ],
   "source": [
    "test_sessions\n",
    "s = test_sessions['PPP1-7_s10']\n",
    "s.loaddata()\n",
    "s.data_filt = correctforbaseline(s.data, s.dataUV)\n",
    "s.setticks()\n",
    "s.time2samples()\n",
    "s.check4events()\n",
    "s.setbottlecolors()"
   ]
  },
  {
   "cell_type": "code",
   "execution_count": 4,
   "metadata": {},
   "outputs": [],
   "source": [
    "try:\n",
    "    s.left['lickdata'] = lickCalc(s.left['licks'],\n",
    "                      offset = s.left['licks_off'],\n",
    "                      burstThreshold = 0.50)\n",
    "except IndexError:\n",
    "    s.left['lickdata'] = 'none'\n",
    "    print('No left licks')\n",
    "    \n",
    "try:\n",
    "    s.right['lickdata'] = lickCalc(s.right['licks'],\n",
    "              offset = s.right['licks_off'],\n",
    "              burstThreshold = 0.50)\n",
    "except IndexError:\n",
    "    s.right['lickdata'] = 'none'\n",
    "    print('No right licks')"
   ]
  },
  {
   "cell_type": "code",
   "execution_count": 5,
   "metadata": {},
   "outputs": [],
   "source": [
    "bins = 300\n",
    "\n",
    "s.randomevents = makerandomevents(120, max(s.tick)-120)\n",
    "s.bgTrials, s.pps = snipper(s.data, s.randomevents,\n",
    "                                t2sMap = s.t2sMap, fs = s.fs, bins=bins)"
   ]
  },
  {
   "cell_type": "code",
   "execution_count": 6,
   "metadata": {},
   "outputs": [
    {
     "name": "stdout",
     "output_type": "stream",
     "text": [
      "21 events to analyze.\n",
      "0 noise trials removed\n",
      "No latency events found\n",
      "37 events to analyze.\n",
      "0 noise trials removed\n",
      "No latency events found\n",
      "21 events to analyze.\n",
      "0 noise trials removed\n",
      "21 events to analyze.\n",
      "0 noise trials removed\n",
      "No latency events found\n",
      "29 events to analyze.\n",
      "0 noise trials removed\n",
      "No latency events found\n",
      "22 events to analyze.\n",
      "0 noise trials removed\n"
     ]
    }
   ],
   "source": [
    "for side in [s.left, s.right]:   \n",
    "    if side['exist'] == True:\n",
    "        side['snips_sipper'] = mastersnipper(s, side['sipper'], peak_between_time=[0, 5])\n",
    "        side['snips_licks'] = mastersnipper(s, side['lickdata']['rStart'], peak_between_time=[0, 2])\n",
    "        try:\n",
    "            timelock_events = [licks for licks in side['lickdata']['rStart'] if licks in side['licks-forced']]\n",
    "            latency_events = side['sipper']\n",
    "            side['snips_licks_forced'] = mastersnipper(s, timelock_events, peak_between_time=[0, 2],\n",
    "                                                            latency_events=latency_events, latency_direction='pre')\n",
    "        except KeyError:\n",
    "            pass\n",
    "        try:\n",
    "            side['lats'] = latencyCalc(side['lickdata']['licks'], side['sipper'], cueoff=side['sipper_off'], lag=0)\n",
    "        except TypeError:\n",
    "            print('Cannot work out latencies as there are lick and/or sipper values missing.')\n",
    "            side['lats'] = []\n",
    "s.side2subs()"
   ]
  },
  {
   "cell_type": "code",
   "execution_count": 7,
   "metadata": {},
   "outputs": [
    {
     "data": {
      "text/plain": [
       "[<matplotlib.lines.Line2D at 0x232bcf63fd0>]"
      ]
     },
     "execution_count": 7,
     "metadata": {},
     "output_type": "execute_result"
    },
    {
     "data": {
      "image/png": "[encoded data removed]",
      "text/plain": [
       "<Figure size 432x288 with 1 Axes>"
      ]
     },
     "metadata": {
      "needs_background": "light"
     },
     "output_type": "display_data"
    }
   ],
   "source": [
    "f, ax = plt.subplots()\n",
    "ax.plot(s.cas['snips_sipper']['filt_avg_z'])"
   ]
  },
  {
   "cell_type": "code",
   "execution_count": null,
   "metadata": {},
   "outputs": [],
   "source": [
    "f, ax = plt.subplots(ncols=3, figsize=(12, 3))\n",
    "ax[0].plot(s.data, color='blue')\n",
    "ax[1].plot(s.dataUV, color='pink')\n",
    "ax[2].plot(s.data_filt, color='red')\n",
    "\n"
   ]
  },
  {
   "cell_type": "code",
   "execution_count": null,
   "metadata": {},
   "outputs": [],
   "source": [
    "# side=s.right\n",
    "# side['snips_sipper'] = mastersnipper_filt(s, side['sipper'], peak_between_time=[0, 5])\n",
    "# s.side2subs()"
   ]
  },
  {
   "cell_type": "code",
   "execution_count": null,
   "metadata": {},
   "outputs": [],
   "source": [
    "# ax[0].plot(np.mean(s.cas['snips_sipper']['filt'], axis=0))\n",
    "# ax[1].plot(np.mean(s.cas['snips_sipper']['filt_z'], axis=0))\n",
    "# ax[2].plot(np.mean(s.cas['snips_sipper']['filt_z_adjBL'], axis=0))\n",
    "# ax[3].plot(s.cas['snips_sipper']['filt_avg'])\n",
    "\n",
    "    \n",
    "for blue, uv, diff, filt, filt_z in zip(s.cas['snips_sipper']['blue'],\n",
    "                                        s.cas['snips_sipper']['uv'],\n",
    "                                        s.cas['snips_sipper']['diff'],\n",
    "                                        s.cas['snips_sipper']['filt'],\n",
    "                                        s.cas['snips_sipper']['filt_z']):\n",
    "    f, ax = plt.subplots(ncols=4, figsize=(12,4))\n",
    "    ax[0].plot(blue)\n",
    "    ax[0].plot(uv)\n",
    "    ax[1].plot(diff)\n",
    "    ax[2].plot(filt)\n",
    "    ax[3].plot(filt_z)"
   ]
  },
  {
   "cell_type": "code",
   "execution_count": null,
   "metadata": {},
   "outputs": [],
   "source": [
    "s.cas['snips_sipper']['blue']"
   ]
  },
  {
   "cell_type": "code",
   "execution_count": null,
   "metadata": {},
   "outputs": [],
   "source": [
    "s.cas['snips_licks_forced'].keys()"
   ]
  },
  {
   "cell_type": "code",
   "execution_count": null,
   "metadata": {
    "scrolled": false
   },
   "outputs": [],
   "source": [
    "s.ttls"
   ]
  },
  {
   "cell_type": "code",
   "execution_count": null,
   "metadata": {},
   "outputs": [],
   "source": [
    "# how do we work out if there are n consecutive values that exceed a certain threshold (z_thresh) in a certain time window (e.g. 0-5 s after event)?\n",
    "for filt_z in s.cas['snips_sipper']['filt_z']:\n",
    "#     f, ax = plt.subplots()\n",
    "#     ax.plot(filt_z)\n",
    "    thresh = 2.5\n",
    "    signifarray = [1 if val > thresh else 0 for val in filt_z[100:151]]\n",
    "    \n",
    "    \n",
    "print(signifarray)"
   ]
  },
  {
   "cell_type": "code",
   "execution_count": null,
   "metadata": {},
   "outputs": [],
   "source": [
    "diff = np.diff(signifarray)\n",
    "diff.index(-1)"
   ]
  },
  {
   "cell_type": "code",
   "execution_count": null,
   "metadata": {},
   "outputs": [],
   "source": [
    "np?"
   ]
  },
  {
   "cell_type": "code",
   "execution_count": null,
   "metadata": {},
   "outputs": [],
   "source": []
  }
 ],
 "metadata": {
  "kernelspec": {
   "display_name": "Python 3",
   "language": "python",
   "name": "python3"
  },
  "language_info": {
   "codemirror_mode": {
    "name": "ipython",
    "version": 3
   },
   "file_extension": ".py",
   "mimetype": "text/x-python",
   "name": "python",
   "nbconvert_exporter": "python",
   "pygments_lexer": "ipython3",
   "version": "3.7.3"
  }
 },
 "nbformat": 4,
 "nbformat_minor": 2
}

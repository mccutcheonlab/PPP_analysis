{
 "cells": [
  {
   "cell_type": "markdown",
   "metadata": {},
   "source": [
    "### Import necessary functions"
   ]
  },
  {
   "cell_type": "code",
   "execution_count": 37,
   "metadata": {},
   "outputs": [],
   "source": [
    "import matplotlib.pyplot as plt\n",
    "import matplotlib.gridspec as gridspec\n",
    "import matplotlib.lines as mlines\n",
    "import matplotlib as mpl\n",
    "\n",
    "import numpy as np\n",
    "import dill\n",
    "\n",
    "import JM_general_functions as jmf\n",
    "import JM_custom_figs as jmfig"
   ]
  },
  {
   "cell_type": "markdown",
   "metadata": {},
   "source": [
    "### This code sets the color scheme"
   ]
  },
  {
   "cell_type": "code",
   "execution_count": 15,
   "metadata": {},
   "outputs": [],
   "source": [
    "green = mpl.colors.to_rgb('xkcd:kelly green')\n",
    "light_green = mpl.colors.to_rgb('xkcd:light green')\n",
    "almost_black = mpl.colors.to_rgb('#262626')\n",
    "\n",
    "col={}\n",
    "col['np_cas'] = 'xkcd:silver'\n",
    "col['np_malt'] = 'white'\n",
    "col['lp_cas'] = green\n",
    "col['lp_malt'] = light_green"
   ]
  },
  {
   "cell_type": "markdown",
   "metadata": {},
   "source": [
    "### Sets several default figure parameters - many of these may want to be changed for the poster"
   ]
  },
  {
   "cell_type": "code",
   "execution_count": null,
   "metadata": {},
   "outputs": [],
   "source": [
    "mpl.rcParams['figure.figsize'] = (4.8, 3.2)\n",
    "mpl.rcParams['figure.dpi'] = 100\n",
    "\n",
    "mpl.rcParams['font.size'] = 8.0\n",
    "mpl.rcParams['axes.labelsize'] = 'medium'\n",
    "mpl.rcParams['ytick.labelsize'] = 'small'\n",
    "mpl.rcParams['figure.subplot.bottom'] = 0.05\n",
    "\n",
    "mpl.rcParams['errorbar.capsize'] = 5\n",
    "\n",
    "mpl.rcParams['savefig.transparent'] = True\n",
    "\n",
    "mpl.rcParams['axes.spines.top']=False\n",
    "mpl.rcParams['axes.spines.right']=False\n",
    "\n",
    "mpl.rc('lines', linewidth=0.5)\n",
    "mpl.rc('axes', linewidth=1, edgecolor=almost_black, labelsize=6, labelpad=4)\n",
    "mpl.rc('patch', linewidth=1, edgecolor=almost_black)\n",
    "mpl.rc('font', family='Arial', size=6)\n",
    "for tick,subtick in zip(['xtick', 'ytick'], ['xtick.major', 'ytick.major']):\n",
    "    mpl.rc(tick, color=almost_black, labelsize=6)\n",
    "    mpl.rc(subtick, width=1)\n",
    "mpl.rc('legend', fontsize=8)\n",
    "mpl.rcParams['figure.subplot.left'] = 0.05\n",
    "mpl.rcParams['figure.subplot.top'] = 0.95"
   ]
  },
  {
   "cell_type": "markdown",
   "metadata": {},
   "source": [
    "### Load in required dataframes"
   ]
  },
  {
   "cell_type": "code",
   "execution_count": 17,
   "metadata": {},
   "outputs": [
    {
     "name": "stderr",
     "output_type": "stream",
     "text": [
      "C:\\ProgramData\\Anaconda3\\lib\\site-packages\\pandas\\core\\indexes\\base.py:162: FutureWarning: the 'labels' keyword is deprecated, use 'codes' instead\n",
      "  return cls.__new__(cls, **d)\n"
     ]
    }
   ],
   "source": [
    "try:\n",
    "    pickle_folder = 'R:\\\\DA_and_Reward\\\\gc214\\\\PPP_combined\\\\output\\\\'\n",
    "    \n",
    "    pickle_in = open(pickle_folder + 'ppp_dfs_sacc.pickle', 'rb')\n",
    "    df_sacc_behav = dill.load(pickle_in)\n",
    "    \n",
    "    pickle_in = open(pickle_folder + 'ppp_dfs_cond1.pickle', 'rb')\n",
    "    df_cond1_behav, df_cond1_photo = dill.load(pickle_in)\n",
    "    \n",
    "    pickle_in = open(pickle_folder + 'ppp_dfs_pref.pickle', 'rb')\n",
    "    df_behav, df_photo, df_reptraces, df_heatmap, df_reptraces_sip, df_heatmap_sip, longtrace = dill.load(pickle_in)\n",
    "\n",
    "except FileNotFoundError:\n",
    "    print('Cannot access pickled file(s)')"
   ]
  },
  {
   "cell_type": "markdown",
   "metadata": {},
   "source": [
    "### Set save directory - change for where you want figures saved!!!"
   ]
  },
  {
   "cell_type": "code",
   "execution_count": 20,
   "metadata": {},
   "outputs": [],
   "source": [
    "savefigs=True\n",
    "savefolder = 'C:\\\\Users\\\\James Rig\\\\Dropbox\\\\AbstractsAndTalks\\\\2019-04-11_BNA_Chiacchierini\\\\'"
   ]
  },
  {
   "cell_type": "markdown",
   "metadata": {},
   "source": [
    "### Function and code to make behavioural figure from preference session 1"
   ]
  },
  {
   "cell_type": "code",
   "execution_count": 25,
   "metadata": {},
   "outputs": [],
   "source": [
    "def pref_behav_fig(ax, df_behav, df_photo, prefsession=1, dietswitch=False, barlabeloffset=[], gs=[], f=[]):\n",
    "\n",
    "    forced_cas_key = 'pref' + str(prefsession) + '_cas_forced'\n",
    "    forced_malt_key = 'pref' + str(prefsession) + '_malt_forced'\n",
    "    free_cas_key = 'pref' + str(prefsession) + '_cas_free'\n",
    "    free_malt_key = 'pref' + str(prefsession) + '_malt_free'\n",
    "    choice_cas_key = 'pref' + str(prefsession) + '_ncas'\n",
    "    choice_malt_key = 'pref' + str(prefsession) + '_nmalt'\n",
    "    lat_cas_key = 'pref' + str(prefsession) + '_cas_lats_fromsip'\n",
    "    lat_malt_key = 'pref' + str(prefsession) + '_malt_lats_fromsip'\n",
    "    pref_key = 'pref' + str(prefsession)\n",
    "    \n",
    "    scattersize = 50\n",
    "\n",
    "    if len(barlabeloffset) < 4:\n",
    "        barlabeloffset = [0.025, 0.025, 0.025, 0.025]\n",
    "\n",
    "    if dietswitch == True:\n",
    "        grouplabel=['NR \\u2192 PR', 'PR \\u2192 NR']\n",
    "        barfacecolor = [col['lp_cas'], col['lp_malt'], col['np_cas'], col['np_malt']]\n",
    "    else:\n",
    "        grouplabel=['NR', 'PR']\n",
    "        barfacecolor = [col['np_cas'], col['np_malt'], col['lp_cas'], col['lp_malt']]\n",
    "    \n",
    "#panel 1 - forced choice licks    \n",
    "    x = [[df_behav.xs('NR', level=1)[forced_cas_key], df_behav.xs('NR', level=1)[forced_malt_key]],\n",
    "         [df_behav.xs('PR', level=1)[forced_cas_key], df_behav.xs('PR', level=1)[forced_malt_key]]]\n",
    "    jmfig.barscatter(x, paired=True, unequal=True,\n",
    "                 barfacecoloroption = 'individual',\n",
    "                 barfacecolor = barfacecolor,\n",
    "                 scatteredgecolor = ['xkcd:charcoal'],\n",
    "                 scatterlinecolor = 'xkcd:charcoal',\n",
    "                 grouplabel=grouplabel,\n",
    "                 barlabels=['Cas', 'Malt', 'Cas', 'Malt'],\n",
    "                 barlabeloffset=barlabeloffset[0],\n",
    "                 scattersize = scattersize,\n",
    "                 ylim=[-50,1050],\n",
    "                 xfontsize=6,\n",
    "                 ax=ax[0])\n",
    "\n",
    "    ax[0].set_ylabel('Licks')\n",
    "    ax[0].set_yticks([0, 500, 1000])\n",
    "\n",
    "#panel 2 - latency for forced choice\n",
    "    x = [[df_photo.xs('NR', level=1)[lat_cas_key], df_photo.xs('NR', level=1)[lat_malt_key]],\n",
    "         [df_photo.xs('PR', level=1)[lat_cas_key], df_photo.xs('PR', level=1)[lat_malt_key]]]\n",
    "    jmfig.barscatter(x, paired=True, unequal=True,\n",
    "                 barfacecoloroption = 'individual',\n",
    "                 barfacecolor = barfacecolor,\n",
    "                 scatteredgecolor = ['xkcd:charcoal'],\n",
    "                 scatterlinecolor = 'xkcd:charcoal',\n",
    "                 grouplabel=grouplabel,\n",
    "                 barlabels=['Cas', 'Malt', 'Cas', 'Malt'],\n",
    "                 barlabeloffset=barlabeloffset[1],\n",
    "                 scattersize = scattersize,\n",
    "                 ylim=[-0.5,10],\n",
    "                 xfontsize=6,\n",
    "                 ax=ax[1])\n",
    "    ax[1].set_ylabel('Latency (s)')\n",
    "    ax[1].set_yticks([0, 2, 4, 6, 8, 10])\n",
    "\n",
    "#panel 2 - free choice licks\n",
    "    x = [[df_behav.xs('NR', level=1)[free_cas_key], df_behav.xs('NR', level=1)[free_malt_key]],\n",
    "         [df_behav.xs('PR', level=1)[free_cas_key], df_behav.xs('PR', level=1)[free_malt_key]]]\n",
    "    jmfig.barscatter(x, paired=True, unequal=True,\n",
    "                 barfacecoloroption = 'individual',\n",
    "                 barfacecolor = barfacecolor,\n",
    "                 scatteredgecolor = ['xkcd:charcoal'],\n",
    "                 scatterlinecolor = 'xkcd:charcoal',\n",
    "                 grouplabel = grouplabel,\n",
    "                 barlabels=['Cas', 'Malt', 'Cas', 'Malt'],\n",
    "                 barlabeloffset=barlabeloffset[2],\n",
    "                 scattersize = scattersize,\n",
    "                 ylim=[-50, 800],\n",
    "                 xfontsize=6,\n",
    "                 ax=ax[2])\n",
    "\n",
    "    ax[2].set_ylabel('Licks')\n",
    "    ax[2].set_yticks([0, 250, 500, 750])\n",
    "\n",
    "    if prefsession == 1:\n",
    "        ax[3].axis('off')\n",
    "    \n",
    "        x = [df_behav.xs('NR', level=1)[pref_key], df_behav.xs('PR', level=1)[pref_key]]\n",
    "        jmfig.barscatter(x, paired=False, unequal=True,\n",
    "                 barfacecoloroption = 'individual',\n",
    "                 barfacecolor = [barfacecolor[0], barfacecolor[2]],\n",
    "                 scatteredgecolor = ['xkcd:charcoal'],\n",
    "                 scatterlinecolor = 'xkcd:charcoal',\n",
    "                 grouplabel = grouplabel,\n",
    "                 grouplabeloffset = 0,\n",
    "                 barlabels=[],\n",
    "                 barlabeloffset=barlabeloffset[3],\n",
    "                 scattersize = 25,\n",
    "                 ylim=[-0.03, 1.1],\n",
    "                 barwidth = .75,\n",
    "                 groupwidth = .5,\n",
    "                 xfontsize=6,\n",
    "                 spaced=True,\n",
    "                 xspace=0.06,\n",
    "                 ax=ax[4])\n",
    "            \n",
    "        ax[4].plot(ax[4].get_xlim(), [0.5, 0.5], linestyle='dashed',color='k', alpha=0.3)\n",
    "        ax[4].set_ylabel('Casein preference')\n",
    "        ax[4].set_yticks([0, 0.5, 1])\n",
    "    else:\n",
    "        inner = gridspec.GridSpecFromSubplotSpec(1,3,subplot_spec=gs[1,1],\n",
    "                                             width_ratios=[0.3,1,0.2])\n",
    "        print(f)\n",
    "        print(type(f))\n",
    "        new_ax = f.add_subplot(inner[1])\n",
    "        x = [df_behav.xs('NR', level=1)[pref_key], df_behav.xs('PR', level=1)[pref_key]]\n",
    "        jmfig.barscatter(x, paired=False, unequal=True,\n",
    "                 barfacecoloroption = 'individual',\n",
    "                 barfacecolor = [barfacecolor[0], barfacecolor[2]],\n",
    "                 scatteredgecolor = ['xkcd:charcoal'],\n",
    "                 scatterlinecolor = 'xkcd:charcoal',\n",
    "                 grouplabeloffset = 0,\n",
    "                 scattersize = 25,\n",
    "                 ylim=[-0.03, 1.1],\n",
    "                 barwidth = .75,\n",
    "                 groupwidth = .5,\n",
    "                 xfontsize=6,\n",
    "                 spaced=True,\n",
    "                 xspace=0.06,\n",
    "                 ax=new_ax)\n",
    "        new_ax.plot(new_ax.get_xlim(), [0.5, 0.5], linestyle='dashed',color='k', alpha=0.3)\n",
    "        new_ax.set_ylabel('Casein preference')\n",
    "        new_ax.set_yticks([0, 0.5, 1])"
   ]
  },
  {
   "cell_type": "code",
   "execution_count": 26,
   "metadata": {},
   "outputs": [
    {
     "name": "stderr",
     "output_type": "stream",
     "text": [
      "C:\\ProgramData\\Anaconda3\\lib\\site-packages\\matplotlib\\cbook\\deprecation.py:107: MatplotlibDeprecationWarning: Passing one of 'on', 'true', 'off', 'false' as a boolean is deprecated; use an actual boolean (True/False) instead.\n",
      "  warnings.warn(message, mplDeprecation, stacklevel=1)\n"
     ]
    },
    {
     "data": {
      "image/png": "[encoded data removed]",
      "text/plain": [
       "<Figure size 518.4x126 with 5 Axes>"
      ]
     },
     "metadata": {
      "needs_background": "light"
     },
     "output_type": "display_data"
    }
   ],
   "source": [
    "fig1_behav, ax = plt.subplots(figsize=(7.2, 1.75), ncols=5, sharey=False, sharex=False,\n",
    "                                  gridspec_kw = {'width_ratios':[1, 1, 1, 0.2, 0.6]})\n",
    "fig1_behav.subplots_adjust(left=0.1, right=0.83, bottom=0.15, wspace=0.65)\n",
    "pref_behav_fig(ax, df_behav, df_photo, prefsession=1,\n",
    "                      barlabeloffset=[0.025, 0.035, 0.045, 0.07])\n",
    "fig1_behav.savefig(savefolder + 'fig1_behav.pdf')"
   ]
  },
  {
   "cell_type": "markdown",
   "metadata": {},
   "source": [
    "### Functions to make average traces and peak bar graph"
   ]
  },
  {
   "cell_type": "code",
   "execution_count": 41,
   "metadata": {},
   "outputs": [],
   "source": [
    "def averagetrace(ax, df, diet, keys, event='', fullaxis=True, colorgroup='control', ylabel=True):\n",
    "    \n",
    "    if colorgroup == 'control':\n",
    "        color=[almost_black, 'xkcd:bluish grey']\n",
    "        errorcolors=['xkcd:silver', 'xkcd:silver']\n",
    "    else:\n",
    "        color=[green, light_green]\n",
    "        errorcolors=['xkcd:silver', 'xkcd:silver']\n",
    "# Selects diet group to plot                \n",
    "    df = df.xs(diet, level=1)\n",
    "\n",
    "# Plots casein and maltodextrin shaded erros\n",
    "    jmfig.shadedError(ax, df[keys[0]], linecolor=color[0], errorcolor=errorcolors[0], linewidth=2)\n",
    "    jmfig.shadedError(ax, df[keys[1]], linecolor=color[1], errorcolor=errorcolors[1], linewidth=2)\n",
    "    \n",
    "    #ax.legend(['Casein', 'Maltodextrin'], fancybox=True)    \n",
    "    if fullaxis == False:\n",
    "        ax.axis('off')\n",
    "\n",
    "# Adds y scale bar\n",
    "        y = [y for y in ax.get_yticks() if y>0][:2]\n",
    "        l = y[1] - y[0]\n",
    "        scale_label = '{0:.0f}% \\u0394F'.format(l*100)\n",
    "        ax.plot([50,50], [y[0], y[1]], c=almost_black)\n",
    "        ax.text(40, y[0]+(l/2), scale_label, va='center', ha='right')\n",
    "\n",
    "# Adds x scale bar   \n",
    "        y = ax.get_ylim()[0]\n",
    "        ax.plot([251,300], [y, y], c=almost_black, linewidth=2)\n",
    "        ax.annotate('5 s', xy=(276,y), xycoords='data',\n",
    "                    xytext=(0,-5), textcoords='offset points',\n",
    "                    ha='center',va='top')\n",
    "\n",
    "    else:\n",
    "        ax.set_xticks([0, 100, 200, 300])\n",
    "        ax.set_xticklabels(['-10', '0', '10', '20'])\n",
    "        ax.set_xlabel('Time from first lick (s)')\n",
    "        \n",
    "    if ylabel:\n",
    "        ax.set_ylabel('Z-Score')"
   ]
  },
  {
   "cell_type": "code",
   "execution_count": 46,
   "metadata": {},
   "outputs": [],
   "source": [
    "def peakbargraph(ax, df, diet, keys, peaktype='auc', epoch=[100, 149],\n",
    "                 sc_color='w', colorgroup='control', ylabel=True,\n",
    "                 ylim=[-0.05, 0.1], grouplabeloffset=0):\n",
    "    \n",
    "    if colorgroup == 'control':\n",
    "        bar_colors=['xkcd:silver', 'w']\n",
    "    else:\n",
    "        bar_colors=[green, light_green]\n",
    "    \n",
    "    epochrange = range(epoch[0], epoch[1])\n",
    "    \n",
    "    df = df.xs(diet, level=1)\n",
    "\n",
    "    a1 = [np.trapz(rat[epochrange])/10 for rat in df[keys[0]]]\n",
    "    a2 = [np.trapz(rat[epochrange])/10 for rat in df[keys[1]]]\n",
    "    ylab = 'AUC'\n",
    "        \n",
    "    a = [a1, a2]\n",
    "    x = jmf.data2obj1D(a)\n",
    "    \n",
    "    ax, x, _, _ = jmfig.barscatter(x, paired=True,\n",
    "                 barfacecoloroption = 'individual',\n",
    "                 barfacecolor = bar_colors,\n",
    "                 scatteredgecolor = [almost_black],\n",
    "                 scatterlinecolor = almost_black,\n",
    "                 scatterfacecolor = [sc_color],\n",
    "                 grouplabel=['Cas', 'Malt'],\n",
    "                 grouplabeloffset=grouplabeloffset,\n",
    "                 scattersize = 50,\n",
    "                 xfontsize=6,\n",
    "                 ax=ax)\n",
    "\n",
    "#    ax.set_yticks([-0.05,0,0.05, 0.1])\n",
    "#    ax.set_yticklabels(['5%', '0%', '5%', '10%'])\n",
    "#    ax.set_ylim(ylim)\n",
    "    \n",
    "    if ylabel:\n",
    "        ax.set_ylabel(ylab)"
   ]
  },
  {
   "cell_type": "markdown",
   "metadata": {},
   "source": [
    "### Function to set layout of photometry data"
   ]
  },
  {
   "cell_type": "code",
   "execution_count": 43,
   "metadata": {},
   "outputs": [],
   "source": [
    "def averageCol(f, df_photo, gs, diet, keys_traces, keys_lats, peaktype='average', epoch=[100,149], event=''):\n",
    "    \n",
    "    inner = gridspec.GridSpecFromSubplotSpec(2,1,subplot_spec=gs[0,1],\n",
    "                                             height_ratios=[0.15,1],\n",
    "                                             hspace=0.0)\n",
    "    \n",
    "    if diet == 'NR':\n",
    "        colors = 'control'\n",
    "    else:\n",
    "        colors = 'exptl'\n",
    "    \n",
    "    ax1 = f.add_subplot(inner[1,0])\n",
    "    averagetrace(ax1, df_photo, diet, keys_traces, event=event, fullaxis=True, colorgroup=colors)\n",
    "    ax1.set_ylim([-1.5, 3.5])\n",
    "    \n",
    "    ax0 = f.add_subplot(inner[0,0], sharex=ax1)\n",
    "    ax0.axis('off')\n",
    "    if event == 'Sipper':\n",
    "        ax0.plot(100,0, 'v', color='xkcd:silver')\n",
    "        ax0.annotate(event, xy=(100, 0), xytext=(0,5), textcoords='offset points',\n",
    "            ha='center', va='bottom')\n",
    "    elif event == 'Licks':\n",
    "        ax0.plot([100,150], [0,0], color='xkcd:silver', linewidth=3)\n",
    "        ax0.annotate(event, xy=(125, 0), xytext=(0,5), textcoords='offset points',\n",
    "            ha='center', va='bottom')\n",
    "    \n",
    "    ax2 = f.add_subplot(gs[1,1]) \n",
    "    peakbargraph(ax2, df_photo, diet, keys_traces, peaktype=peaktype, epoch=epoch,\n",
    "                 colorgroup=colors, ylim=[-0.04,0.12], grouplabeloffset=0.07)\n",
    "    ax2.set_ylim([-3, 7])"
   ]
  },
  {
   "cell_type": "code",
   "execution_count": null,
   "metadata": {},
   "outputs": [],
   "source": [
    "###"
   ]
  },
  {
   "cell_type": "code",
   "execution_count": 47,
   "metadata": {},
   "outputs": [],
   "source": [
    "def fig1_photo(df_heatmap, df_photo, diet, session, clims=[[0,1], [0,1]],\n",
    "                 peaktype='auc', epoch=[100,149],\n",
    "                 keys_traces = ['pref1_cas_licks_forced', 'pref1_malt_licks_forced'],\n",
    "                 keys_lats = ['pref1_cas_lats_all', 'pref1_malt_lats_all'],\n",
    "                 event='Licks'):\n",
    "    \n",
    "    if diet == 'NR':\n",
    "        rat='PPP1-7'\n",
    "        colors = 'control'\n",
    "    else:\n",
    "        rat='PPP1-4'\n",
    "        colors = 'exptl'\n",
    "    \n",
    "    if event == 'Sipper':\n",
    "        reverse = False\n",
    "    else:\n",
    "        reverse = True\n",
    "    \n",
    "    gs = gridspec.GridSpec(2, 2, wspace=0.8, width_ratios=[1, 0.8], hspace=0.3, left=0.12, right=0.98)\n",
    "    f = plt.figure(figsize=(3.2,3.2))\n",
    "    \n",
    "    #heatmapCol(f, df_heatmap, gs, diet, session, rat, event=event, clims=clims, reverse=reverse, colorgroup=colors)\n",
    "    \n",
    "    averageCol(f, df_photo, gs, diet, keys_traces, keys_lats, peaktype=peaktype, epoch=epoch,  event=event)\n",
    "        \n",
    "    return f"
   ]
  },
  {
   "cell_type": "code",
   "execution_count": 45,
   "metadata": {},
   "outputs": [
    {
     "name": "stderr",
     "output_type": "stream",
     "text": [
      "C:\\ProgramData\\Anaconda3\\lib\\site-packages\\matplotlib\\cbook\\deprecation.py:107: MatplotlibDeprecationWarning: Passing one of 'on', 'true', 'off', 'false' as a boolean is deprecated; use an actual boolean (True/False) instead.\n",
      "  warnings.warn(message, mplDeprecation, stacklevel=1)\n"
     ]
    },
    {
     "data": {
      "image/png": "[encoded data removed]",
      "text/plain": [
       "<Figure size 230.4x230.4 with 3 Axes>"
      ]
     },
     "metadata": {
      "needs_background": "light"
     },
     "output_type": "display_data"
    },
    {
     "data": {
      "image/png": "[encoded data removed]",
      "text/plain": [
       "<Figure size 230.4x230.4 with 3 Axes>"
      ]
     },
     "metadata": {
      "needs_background": "light"
     },
     "output_type": "display_data"
    }
   ],
   "source": [
    "clims = [[-0.15,0.20], [-0.11,0.15]]\n",
    "peaktype='auc'\n",
    "epoch=[100,119]\n",
    "\n",
    "fig1_photo_NR = fig1_photo(df_heatmap, df_photo, 'NR', 'pref1', clims=clims[0],\n",
    "                                      peaktype=peaktype, epoch=epoch,\n",
    "                                      keys_traces = ['pref1_cas_licks_forced', 'pref1_malt_licks_forced'],\n",
    "                                      keys_lats = ['pref1_cas_lats_all', 'pref1_malt_lats_all'])\n",
    "\n",
    "fig1_photo_PR = fig1_photo(df_heatmap, df_photo, 'PR', 'pref1', clims=clims[1],\n",
    "                                      peaktype=peaktype, epoch=epoch,\n",
    "                                      keys_traces = ['pref1_cas_licks_forced', 'pref1_malt_licks_forced'],\n",
    "                                      keys_lats = ['pref1_cas_lats_all', 'pref1_malt_lats_all'])\n",
    "\n",
    "fig1_photo_NR.savefig(savefolder + 'fig1_photo_NR.pdf')\n",
    "fig1_photo_PR.savefig(savefolder + 'fig1_photo_PR.pdf')"
   ]
  },
  {
   "cell_type": "code",
   "execution_count": null,
   "metadata": {},
   "outputs": [],
   "source": [
    "# from 'ppp_pub_figs_settings' import *\n",
    "# from ppp_pub_figs_fx import *\n",
    "# from ppp_pub_figs_supp import *\n",
    "\n",
    "# import os\n",
    "# os.chdir(os.path.dirname(__file__))\n",
    "# cwd = os.getcwd()\n",
    "\n",
    "# import sys\n",
    "# sys.path.insert(0,cwd)"
   ]
  }
 ],
 "metadata": {
  "kernelspec": {
   "display_name": "Python 3",
   "language": "python",
   "name": "python3"
  },
  "language_info": {
   "codemirror_mode": {
    "name": "ipython",
    "version": 3
   },
   "file_extension": ".py",
   "mimetype": "text/x-python",
   "name": "python",
   "nbconvert_exporter": "python",
   "pygments_lexer": "ipython3",
   "version": "3.6.4"
  }
 },
 "nbformat": 4,
 "nbformat_minor": 2
}

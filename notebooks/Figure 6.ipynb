{
 "cells": [
  {
   "cell_type": "markdown",
   "id": "monthly-juice",
   "metadata": {},
   "source": [
    "## Notebook to produce Figure 6 for Chiacchierini et al. (2021)"
   ]
  },
  {
   "attachments": {},
   "cell_type": "markdown",
   "id": "reflected-norwegian",
   "metadata": {},
   "source": [
    "![Figure 6](./figs/PPP_figs_R2_Fig6.png \"Figure 6\")"
   ]
  },
  {
   "cell_type": "code",
   "execution_count": 1,
   "id": "confidential-influence",
   "metadata": {},
   "outputs": [],
   "source": [
    "import sys\n",
    "sys.path.append('..\\\\helperfx')\n",
    "\n",
    "import matplotlib as mpl\n",
    "import matplotlib.pyplot as plt\n",
    "import matplotlib.gridspec as gridspec\n",
    "import matplotlib.lines as mlines\n",
    "import matplotlib.transforms as transforms\n",
    "\n",
    "import dabest as db\n",
    "import pandas as pd\n",
    "import trompy as tp\n",
    "\n",
    "from settings4figs import *\n",
    "from fx4figs import *\n",
    "\n",
    "%matplotlib inline"
   ]
  },
  {
   "cell_type": "code",
   "execution_count": 2,
   "id": "noticed-castle",
   "metadata": {},
   "outputs": [],
   "source": [
    "#Adds control column for calculating vs. 50%\n",
    "con = [0.5] * 15\n",
    "df_behav.insert(0, \"control\", con)\n",
    "\n",
    "#Initializes details for saving statistics\n",
    "stats_args = {}\n",
    "stats_args[\"file\"] = \"..\\\\stats\\\\estimation_stats.xlsx\"\n",
    "stats_args[\"file\"] = \"\" # Comment this line out to write a new stats file\n",
    "\n",
    "# with pd.ExcelWriter(stats_args[\"file\"]) as writer:\n",
    "#     df_behav[\"control\"].to_excel(writer, sheet_name=\"front\")"
   ]
  },
  {
   "cell_type": "markdown",
   "id": "blocked-clothing",
   "metadata": {},
   "source": [
    "### Panel B - forced choice licks for NR to PR rats (Pref Test 2)"
   ]
  },
  {
   "cell_type": "code",
   "execution_count": 3,
   "id": "stuck-absence",
   "metadata": {},
   "outputs": [
    {
     "name": "stdout",
     "output_type": "stream",
     "text": [
      "No stats file to write to.\n"
     ]
    },
    {
     "data": {
      "image/png": "[encoded data removed]",
      "text/plain": [
       "<Figure size 72x126 with 2 Axes>"
      ]
     },
     "metadata": {
      "needs_background": "light"
     },
     "output_type": "display_data"
    }
   ],
   "source": [
    "keys = [\"pref2_malt_forced\", \"pref2_cas_forced\"]\n",
    "stats_args[\"sheet\"] = \"pref2_forced_licks_nr\"\n",
    "data, df = prep4estimationstats_1group(df_behav, [\"NR\"], keys)\n",
    "fig6B = barscatter_plus_estimation_1group(data, df, colors=\"expt\", ylabel=\"Licks (forced)\", stats_args=stats_args)"
   ]
  },
  {
   "cell_type": "markdown",
   "id": "flush-order",
   "metadata": {},
   "source": [
    "### Panel C - latencies for NR to PR rats (Pref Test 2)"
   ]
  },
  {
   "cell_type": "code",
   "execution_count": 4,
   "id": "awful-habitat",
   "metadata": {},
   "outputs": [
    {
     "name": "stdout",
     "output_type": "stream",
     "text": [
      "No stats file to write to.\n"
     ]
    },
    {
     "data": {
      "image/png": "[encoded data removed]",
      "text/plain": [
       "<Figure size 72x126 with 2 Axes>"
      ]
     },
     "metadata": {
      "needs_background": "light"
     },
     "output_type": "display_data"
    }
   ],
   "source": [
    "keys = [\"pref2_malt_lats_fromsip\", \"pref2_cas_lats_fromsip\"]\n",
    "stats_args[\"sheet\"] = \"pref2_latency_nr\"\n",
    "data, df = prep4estimationstats_1group(df_photo, [\"NR\"], keys)\n",
    "fig6C = barscatter_plus_estimation_1group(data, df, colors=\"expt\", ylabel=\"Latency (s)\", stats_args=stats_args)"
   ]
  },
  {
   "cell_type": "markdown",
   "id": "revised-energy",
   "metadata": {},
   "source": [
    "### Panel D - free choice licks for NR to PR rats (Pref Test 2)"
   ]
  },
  {
   "cell_type": "code",
   "execution_count": 5,
   "id": "handmade-engine",
   "metadata": {},
   "outputs": [
    {
     "name": "stdout",
     "output_type": "stream",
     "text": [
      "No stats file to write to.\n"
     ]
    },
    {
     "data": {
      "image/png": "[encoded data removed]",
      "text/plain": [
       "<Figure size 72x126 with 2 Axes>"
      ]
     },
     "metadata": {
      "needs_background": "light"
     },
     "output_type": "display_data"
    }
   ],
   "source": [
    "keys = [\"pref2_malt_free\", \"pref2_cas_free\"]\n",
    "stats_args[\"sheet\"] = \"pref2_free_licks_nr\"\n",
    "data, df = prep4estimationstats_1group(df_behav, [\"NR\"], keys)\n",
    "fig6D = barscatter_plus_estimation_1group(data, df, colors=\"expt\", ylabel=\"Licks (free)\", stats_args=stats_args)"
   ]
  },
  {
   "cell_type": "markdown",
   "id": "employed-southeast",
   "metadata": {},
   "source": [
    "### Panel E - average photometry signal (Pref Test 2)"
   ]
  },
  {
   "cell_type": "code",
   "execution_count": 6,
   "id": "opening-refrigerator",
   "metadata": {},
   "outputs": [
    {
     "data": {
      "image/png": "[encoded data removed]",
      "text/plain": [
       "<Figure size 108x144 with 2 Axes>"
      ]
     },
     "metadata": {
      "needs_background": "light"
     },
     "output_type": "display_data"
    }
   ],
   "source": [
    "keys = ['pref2_cas_licks_forced', 'pref2_malt_licks_forced']\n",
    "fig6E = photogroup_panel(df_photo, keys, \"NR\", colorgroup=\"expt\")"
   ]
  },
  {
   "cell_type": "markdown",
   "id": "hawaiian-running",
   "metadata": {},
   "source": [
    "### Panel F - AUC for NR to PR rats (Pref Test 2)"
   ]
  },
  {
   "cell_type": "code",
   "execution_count": 7,
   "id": "hindu-delicious",
   "metadata": {},
   "outputs": [
    {
     "name": "stdout",
     "output_type": "stream",
     "text": [
      "No stats file to write to.\n"
     ]
    },
    {
     "data": {
      "image/png": "[encoded data removed]",
      "text/plain": [
       "<Figure size 72x126 with 2 Axes>"
      ]
     },
     "metadata": {
      "needs_background": "light"
     },
     "output_type": "display_data"
    }
   ],
   "source": [
    "keys = [\"pref2_auc_malt\", \"pref2_auc_cas\"]\n",
    "stats_args[\"sheet\"] = \"pref2_auc_nr\"\n",
    "data, df = prep4estimationstats_1group(df_photo, [\"NR\"], keys)\n",
    "fig6F = barscatter_plus_estimation_1group(data, df, colors=\"expt\", ylabel=\"AUC\", stats_args=stats_args)"
   ]
  },
  {
   "cell_type": "markdown",
   "id": "arabic-huntington",
   "metadata": {},
   "source": [
    "### Panel H - forced choice licks for NR to PR rats (Pref Test 3)"
   ]
  },
  {
   "cell_type": "code",
   "execution_count": 8,
   "id": "lasting-queen",
   "metadata": {},
   "outputs": [
    {
     "name": "stdout",
     "output_type": "stream",
     "text": [
      "No stats file to write to.\n"
     ]
    },
    {
     "data": {
      "image/png": "[encoded data removed]",
      "text/plain": [
       "<Figure size 72x126 with 2 Axes>"
      ]
     },
     "metadata": {
      "needs_background": "light"
     },
     "output_type": "display_data"
    }
   ],
   "source": [
    "keys = [\"pref3_malt_forced\", \"pref3_cas_forced\", ]\n",
    "stats_args[\"sheet\"] = \"pref3_forced_licks_nr\"\n",
    "data, df = prep4estimationstats_1group(df_behav, [\"NR\"], keys)\n",
    "fig6H = barscatter_plus_estimation_1group(data, df, colors=\"expt\", ylabel=\"Licks (forced)\", stats_args=stats_args)"
   ]
  },
  {
   "cell_type": "markdown",
   "id": "signal-insurance",
   "metadata": {},
   "source": [
    "### Panel I - latencies for NR to PR rats (Pref Test 3)"
   ]
  },
  {
   "cell_type": "code",
   "execution_count": 9,
   "id": "japanese-onion",
   "metadata": {
    "scrolled": true
   },
   "outputs": [
    {
     "name": "stdout",
     "output_type": "stream",
     "text": [
      "No stats file to write to.\n"
     ]
    },
    {
     "data": {
      "image/png": "[encoded data removed]",
      "text/plain": [
       "<Figure size 72x126 with 2 Axes>"
      ]
     },
     "metadata": {
      "needs_background": "light"
     },
     "output_type": "display_data"
    }
   ],
   "source": [
    "keys = [\"pref3_malt_lats_fromsip\", \"pref3_cas_lats_fromsip\"]\n",
    "stats_args[\"sheet\"] = \"pref3_latency_nr\"\n",
    "data, df = prep4estimationstats_1group(df_photo, [\"NR\"], keys)\n",
    "fig6I = barscatter_plus_estimation_1group(data, df, colors=\"expt\", ylabel=\"Latency (s)\", stats_args=stats_args)"
   ]
  },
  {
   "cell_type": "markdown",
   "id": "innovative-murder",
   "metadata": {},
   "source": [
    "### Panel J - free choice licks for NR to PR rats (Pref Test 3)"
   ]
  },
  {
   "cell_type": "code",
   "execution_count": 10,
   "id": "municipal-offer",
   "metadata": {},
   "outputs": [
    {
     "name": "stdout",
     "output_type": "stream",
     "text": [
      "No stats file to write to.\n"
     ]
    },
    {
     "data": {
      "image/png": "[encoded data removed]",
      "text/plain": [
       "<Figure size 72x126 with 2 Axes>"
      ]
     },
     "metadata": {
      "needs_background": "light"
     },
     "output_type": "display_data"
    }
   ],
   "source": [
    "keys = [\"pref3_malt_free\", \"pref3_cas_free\", ]\n",
    "stats_args[\"sheet\"] = \"pref3_free_licks_nr\"\n",
    "data, df = prep4estimationstats_1group(df_behav, [\"NR\"], keys)\n",
    "fig6J = barscatter_plus_estimation_1group(data, df, colors=\"expt\", ylabel=\"Licks (free)\", stats_args=stats_args)"
   ]
  },
  {
   "cell_type": "markdown",
   "id": "graphic-giving",
   "metadata": {},
   "source": [
    "### Panel K - average photometry signal (Pref Test 3)"
   ]
  },
  {
   "cell_type": "code",
   "execution_count": 11,
   "id": "opponent-belly",
   "metadata": {
    "scrolled": false
   },
   "outputs": [
    {
     "data": {
      "image/png": "[encoded data removed]",
      "text/plain": [
       "<Figure size 108x144 with 2 Axes>"
      ]
     },
     "metadata": {
      "needs_background": "light"
     },
     "output_type": "display_data"
    }
   ],
   "source": [
    "keys = ['pref3_cas_licks_forced', 'pref3_malt_licks_forced']\n",
    "fig6K = photogroup_panel(df_photo, keys, \"NR\", colorgroup=\"expt\")"
   ]
  },
  {
   "cell_type": "markdown",
   "id": "experienced-craft",
   "metadata": {},
   "source": [
    "### Panel L - AUC for NR to PR rats (Pref Test 3)"
   ]
  },
  {
   "cell_type": "code",
   "execution_count": 12,
   "id": "helpful-colonial",
   "metadata": {},
   "outputs": [
    {
     "name": "stdout",
     "output_type": "stream",
     "text": [
      "No stats file to write to.\n"
     ]
    },
    {
     "data": {
      "image/png": "[encoded data removed]",
      "text/plain": [
       "<Figure size 72x126 with 2 Axes>"
      ]
     },
     "metadata": {
      "needs_background": "light"
     },
     "output_type": "display_data"
    }
   ],
   "source": [
    "keys = [\"pref3_auc_malt\", \"pref3_auc_cas\", ]\n",
    "stats_args[\"sheet\"] = \"pref3_auc_nr\"\n",
    "data, df = prep4estimationstats_1group(df_photo, [\"NR\"], keys)\n",
    "fig6L = barscatter_plus_estimation_1group(data, df, colors=\"expt\", ylabel=\"AUC\", stats_args=stats_args)"
   ]
  },
  {
   "cell_type": "code",
   "execution_count": null,
   "id": "outside-tiffany",
   "metadata": {},
   "outputs": [],
   "source": []
  }
 ],
 "metadata": {
  "kernelspec": {
   "display_name": "Python 3",
   "language": "python",
   "name": "python3"
  },
  "language_info": {
   "codemirror_mode": {
    "name": "ipython",
    "version": 3
   },
   "file_extension": ".py",
   "mimetype": "text/x-python",
   "name": "python",
   "nbconvert_exporter": "python",
   "pygments_lexer": "ipython3",
   "version": "3.7.2"
  }
 },
 "nbformat": 4,
 "nbformat_minor": 5
}
